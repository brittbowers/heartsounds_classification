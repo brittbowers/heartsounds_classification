{
  "nbformat": 4,
  "nbformat_minor": 0,
  "metadata": {
    "colab": {
      "name": "phonocardiogram_preprocess_2dcnn.ipynb",
      "provenance": [],
      "collapsed_sections": [],
      "toc_visible": true,
      "machine_shape": "hm",
      "include_colab_link": true
    },
    "kernelspec": {
      "name": "python3",
      "display_name": "Python 3"
    },
    "accelerator": "GPU",
    "widgets": {
      "application/vnd.jupyter.widget-state+json": {
        "0c786ce861a048ac957bb7eb4ab01f83": {
          "model_module": "@jupyter-widgets/controls",
          "model_name": "HBoxModel",
          "state": {
            "_view_name": "HBoxView",
            "_dom_classes": [],
            "_model_name": "HBoxModel",
            "_view_module": "@jupyter-widgets/controls",
            "_model_module_version": "1.5.0",
            "_view_count": null,
            "_view_module_version": "1.5.0",
            "box_style": "",
            "layout": "IPY_MODEL_5bca9d7673284557a8b10ab89b678ea7",
            "_model_module": "@jupyter-widgets/controls",
            "children": [
              "IPY_MODEL_bd51c66725754cd2b6cd35c3319b8107",
              "IPY_MODEL_8d8646aee654449c89fe732ae731c9ef"
            ]
          }
        },
        "5bca9d7673284557a8b10ab89b678ea7": {
          "model_module": "@jupyter-widgets/base",
          "model_name": "LayoutModel",
          "state": {
            "_view_name": "LayoutView",
            "grid_template_rows": null,
            "right": null,
            "justify_content": null,
            "_view_module": "@jupyter-widgets/base",
            "overflow": null,
            "_model_module_version": "1.2.0",
            "_view_count": null,
            "flex_flow": null,
            "width": null,
            "min_width": null,
            "border": null,
            "align_items": null,
            "bottom": null,
            "_model_module": "@jupyter-widgets/base",
            "top": null,
            "grid_column": null,
            "overflow_y": null,
            "overflow_x": null,
            "grid_auto_flow": null,
            "grid_area": null,
            "grid_template_columns": null,
            "flex": null,
            "_model_name": "LayoutModel",
            "justify_items": null,
            "grid_row": null,
            "max_height": null,
            "align_content": null,
            "visibility": null,
            "align_self": null,
            "height": null,
            "min_height": null,
            "padding": null,
            "grid_auto_rows": null,
            "grid_gap": null,
            "max_width": null,
            "order": null,
            "_view_module_version": "1.2.0",
            "grid_template_areas": null,
            "object_position": null,
            "object_fit": null,
            "grid_auto_columns": null,
            "margin": null,
            "display": null,
            "left": null
          }
        },
        "bd51c66725754cd2b6cd35c3319b8107": {
          "model_module": "@jupyter-widgets/controls",
          "model_name": "IntProgressModel",
          "state": {
            "_view_name": "ProgressView",
            "style": "IPY_MODEL_4c51213af7b54e86bff9f73cf57efb31",
            "_dom_classes": [],
            "description": "",
            "_model_name": "IntProgressModel",
            "bar_style": "success",
            "max": 143,
            "_view_module": "@jupyter-widgets/controls",
            "_model_module_version": "1.5.0",
            "value": 143,
            "_view_count": null,
            "_view_module_version": "1.5.0",
            "orientation": "horizontal",
            "min": 0,
            "description_tooltip": null,
            "_model_module": "@jupyter-widgets/controls",
            "layout": "IPY_MODEL_b1463b7045c0407aa04943fb85fd019c"
          }
        },
        "8d8646aee654449c89fe732ae731c9ef": {
          "model_module": "@jupyter-widgets/controls",
          "model_name": "HTMLModel",
          "state": {
            "_view_name": "HTMLView",
            "style": "IPY_MODEL_5af941b0ce5e4749b405732d878cdf46",
            "_dom_classes": [],
            "description": "",
            "_model_name": "HTMLModel",
            "placeholder": "​",
            "_view_module": "@jupyter-widgets/controls",
            "_model_module_version": "1.5.0",
            "value": "100% 143/143 [01:47&lt;00:00,  1.52it/s]",
            "_view_count": null,
            "_view_module_version": "1.5.0",
            "description_tooltip": null,
            "_model_module": "@jupyter-widgets/controls",
            "layout": "IPY_MODEL_305e5e97b52e47649184a962b62fc25b"
          }
        },
        "4c51213af7b54e86bff9f73cf57efb31": {
          "model_module": "@jupyter-widgets/controls",
          "model_name": "ProgressStyleModel",
          "state": {
            "_view_name": "StyleView",
            "_model_name": "ProgressStyleModel",
            "description_width": "",
            "_view_module": "@jupyter-widgets/base",
            "_model_module_version": "1.5.0",
            "_view_count": null,
            "_view_module_version": "1.2.0",
            "bar_color": null,
            "_model_module": "@jupyter-widgets/controls"
          }
        },
        "b1463b7045c0407aa04943fb85fd019c": {
          "model_module": "@jupyter-widgets/base",
          "model_name": "LayoutModel",
          "state": {
            "_view_name": "LayoutView",
            "grid_template_rows": null,
            "right": null,
            "justify_content": null,
            "_view_module": "@jupyter-widgets/base",
            "overflow": null,
            "_model_module_version": "1.2.0",
            "_view_count": null,
            "flex_flow": null,
            "width": null,
            "min_width": null,
            "border": null,
            "align_items": null,
            "bottom": null,
            "_model_module": "@jupyter-widgets/base",
            "top": null,
            "grid_column": null,
            "overflow_y": null,
            "overflow_x": null,
            "grid_auto_flow": null,
            "grid_area": null,
            "grid_template_columns": null,
            "flex": null,
            "_model_name": "LayoutModel",
            "justify_items": null,
            "grid_row": null,
            "max_height": null,
            "align_content": null,
            "visibility": null,
            "align_self": null,
            "height": null,
            "min_height": null,
            "padding": null,
            "grid_auto_rows": null,
            "grid_gap": null,
            "max_width": null,
            "order": null,
            "_view_module_version": "1.2.0",
            "grid_template_areas": null,
            "object_position": null,
            "object_fit": null,
            "grid_auto_columns": null,
            "margin": null,
            "display": null,
            "left": null
          }
        },
        "5af941b0ce5e4749b405732d878cdf46": {
          "model_module": "@jupyter-widgets/controls",
          "model_name": "DescriptionStyleModel",
          "state": {
            "_view_name": "StyleView",
            "_model_name": "DescriptionStyleModel",
            "description_width": "",
            "_view_module": "@jupyter-widgets/base",
            "_model_module_version": "1.5.0",
            "_view_count": null,
            "_view_module_version": "1.2.0",
            "_model_module": "@jupyter-widgets/controls"
          }
        },
        "305e5e97b52e47649184a962b62fc25b": {
          "model_module": "@jupyter-widgets/base",
          "model_name": "LayoutModel",
          "state": {
            "_view_name": "LayoutView",
            "grid_template_rows": null,
            "right": null,
            "justify_content": null,
            "_view_module": "@jupyter-widgets/base",
            "overflow": null,
            "_model_module_version": "1.2.0",
            "_view_count": null,
            "flex_flow": null,
            "width": null,
            "min_width": null,
            "border": null,
            "align_items": null,
            "bottom": null,
            "_model_module": "@jupyter-widgets/base",
            "top": null,
            "grid_column": null,
            "overflow_y": null,
            "overflow_x": null,
            "grid_auto_flow": null,
            "grid_area": null,
            "grid_template_columns": null,
            "flex": null,
            "_model_name": "LayoutModel",
            "justify_items": null,
            "grid_row": null,
            "max_height": null,
            "align_content": null,
            "visibility": null,
            "align_self": null,
            "height": null,
            "min_height": null,
            "padding": null,
            "grid_auto_rows": null,
            "grid_gap": null,
            "max_width": null,
            "order": null,
            "_view_module_version": "1.2.0",
            "grid_template_areas": null,
            "object_position": null,
            "object_fit": null,
            "grid_auto_columns": null,
            "margin": null,
            "display": null,
            "left": null
          }
        }
      }
    }
  },
  "cells": [
    {
      "cell_type": "markdown",
      "metadata": {
        "id": "view-in-github",
        "colab_type": "text"
      },
      "source": [
        "<a href=\"https://colab.research.google.com/github/brittbowers/heartsounds_classification/blob/master/phonocardiogram_preprocess_2dcnn.ipynb\" target=\"_parent\"><img src=\"https://colab.research.google.com/assets/colab-badge.svg\" alt=\"Open In Colab\"/></a>"
      ]
    },
    {
      "cell_type": "markdown",
      "metadata": {
        "id": "xf4zl_9BlYPJ",
        "colab_type": "text"
      },
      "source": [
        "# Heart Sound Machine Learning Challenge\n",
        "\n",
        "This challenge is based on the [Physionet 2016 machine learning challenge](https://physionet.org/content/challenge-2016/1.0.0/). Numerous solutions to this challenge have been published and we encourage you to take advantage of previous work. We don't expect this exercise to take more than four hours. But there is a space at the end of the notebook to discuss other techniques you would try if you had more time. \n",
        "\n",
        "## Training Data\n",
        "\n",
        "The training set for this challenge consists of the training data from the Physionet 2016 minus the data included in the test set. There is a file named REFERENCE.csv containing the audio file names and the corresponding labels. The meaning of the labels are as follows: \n",
        "\n",
        "```\n",
        "Abnormal heart sound: 1\n",
        "Normal heart sound: -1 \n",
        "```\n",
        "\n",
        "While training if you would like access to GPU or TPU hardware, you can select `Change runtime type` from the `Runtime` menu and select an accelerator type under `Hardware accelerator`. \n",
        "\n",
        "## Test Data\n",
        "\n",
        "The test set data consists 301 recordings from the public validation set from the Physionet 2016 challenge. This is a balanced set of 150 normal and 151 abnormal recordings. We encourage you to not use this set for hyperparameter tuning and to save it to evaluate on at the end of the challenge.\n",
        "\n",
        "## Evaluation\n",
        "\n",
        "Tune your solutions to maximize the area under the ROC curve for detection of abnormal heart sounds. We will attempt to evaluate your model both on the test set provided and on a hidden holdout set. \n",
        "\n",
        "## Deliverable\n",
        "\n",
        "Feel free to make any changes you like to the preprocessing or the classifier. Please share your updated colab notebook with the hiring manager. To help us understand your results, you can include explanations of the experiments you've performed and improvements that you've made using the colab notebook's text blocks. There is also a text block at the end of the notebook for you to summarize your changes. "
      ]
    },
    {
      "cell_type": "code",
      "metadata": {
        "id": "EkWnpsjzlJ6I",
        "colab_type": "code",
        "outputId": "9db5eebb-c477-416a-923e-1ff2b003a17d",
        "colab": {
          "base_uri": "https://localhost:8080/",
          "height": 34
        }
      },
      "source": [
        "import os\n",
        "\n",
        "import numpy as np\n",
        "import pandas as pd\n",
        "import matplotlib.pyplot as plt\n",
        "from sklearn.model_selection import train_test_split\n",
        "from sklearn.metrics import roc_curve, roc_auc_score\n",
        "from scipy.io import wavfile\n",
        "import keras\n",
        "from keras import regularizers\n",
        "from keras.models import Sequential\n",
        "from keras.layers import Dense, Dropout, Flatten, Activation, ActivityRegularization, BatchNormalization\n",
        "from keras.layers import Conv1D, Conv2D, MaxPooling1D, MaxPooling2D, GlobalMaxPooling1D\n",
        "from keras import backend as K\n",
        "import tensorflow as tf"
      ],
      "execution_count": 0,
      "outputs": [
        {
          "output_type": "stream",
          "text": [
            "Using TensorFlow backend.\n"
          ],
          "name": "stderr"
        }
      ]
    },
    {
      "cell_type": "code",
      "metadata": {
        "id": "-3c3tldbB4A5",
        "colab_type": "code",
        "outputId": "ed2ef974-6565-4a09-b912-9e8d2aba11e7",
        "colab": {
          "base_uri": "https://localhost:8080/",
          "height": 122
        }
      },
      "source": [
        "# Extra Imports\n",
        "import librosa\n",
        "from librosa import display\n",
        "from tqdm import tqdm_notebook as tqdm\n",
        "import pickle\n",
        "import random\n",
        "from keras.utils import to_categorical\n",
        "from google.colab import drive\n",
        "drive.mount('/content/gdrive', force_remount=True)"
      ],
      "execution_count": 0,
      "outputs": [
        {
          "output_type": "stream",
          "text": [
            "Go to this URL in a browser: https://accounts.google.com/o/oauth2/auth?client_id=947318989803-6bn6qk8qdgf4n4g3pfee6491hc0brc4i.apps.googleusercontent.com&redirect_uri=urn%3aietf%3awg%3aoauth%3a2.0%3aoob&response_type=code&scope=email%20https%3a%2f%2fwww.googleapis.com%2fauth%2fdocs.test%20https%3a%2f%2fwww.googleapis.com%2fauth%2fdrive%20https%3a%2f%2fwww.googleapis.com%2fauth%2fdrive.photos.readonly%20https%3a%2f%2fwww.googleapis.com%2fauth%2fpeopleapi.readonly\n",
            "\n",
            "Enter your authorization code:\n",
            "··········\n",
            "Mounted at /content/gdrive\n"
          ],
          "name": "stdout"
        }
      ]
    },
    {
      "cell_type": "markdown",
      "metadata": {
        "id": "lH1mAEg_iW8_",
        "colab_type": "text"
      },
      "source": [
        "# Background\n",
        "\n",
        "The intro of this article (https://www.kdnuggets.com/2020/02/audio-file-processing-ecg-audio-python.html) does a good job of recapping cardiac physiology and framing the problem with regard to various heart sounds\n"
      ]
    },
    {
      "cell_type": "markdown",
      "metadata": {
        "id": "fyBqvL3vmHDn",
        "colab_type": "text"
      },
      "source": [
        "# Download and preprocess data"
      ]
    },
    {
      "cell_type": "code",
      "metadata": {
        "id": "Hk_8e8skmM52",
        "colab_type": "code",
        "outputId": "c03bf02e-f598-4b64-8646-489864835e8c",
        "colab": {
          "base_uri": "https://localhost:8080/",
          "height": 224
        }
      },
      "source": [
        "! wget https://eko-public.s3.amazonaws.com/heart_sound_challenge.zip\n",
        "! unzip -q heart_sound_challenge.zip"
      ],
      "execution_count": 0,
      "outputs": [
        {
          "output_type": "stream",
          "text": [
            "--2020-05-07 04:02:55--  https://eko-public.s3.amazonaws.com/heart_sound_challenge.zip\n",
            "Resolving eko-public.s3.amazonaws.com (eko-public.s3.amazonaws.com)... 52.217.9.124\n",
            "Connecting to eko-public.s3.amazonaws.com (eko-public.s3.amazonaws.com)|52.217.9.124|:443... connected.\n",
            "HTTP request sent, awaiting response... 200 OK\n",
            "Length: 163941805 (156M) [application/zip]\n",
            "Saving to: ‘heart_sound_challenge.zip’\n",
            "\n",
            "heart_sound_challen 100%[===================>] 156.35M  58.4MB/s    in 2.7s    \n",
            "\n",
            "2020-05-07 04:02:58 (58.4 MB/s) - ‘heart_sound_challenge.zip’ saved [163941805/163941805]\n",
            "\n"
          ],
          "name": "stdout"
        }
      ]
    },
    {
      "cell_type": "markdown",
      "metadata": {
        "id": "FWujpA-qWsKB",
        "colab_type": "text"
      },
      "source": [
        "## 1D Preprocessing (GIVEN)"
      ]
    },
    {
      "cell_type": "code",
      "metadata": {
        "id": "7Gqw53oLraNV",
        "colab_type": "code",
        "colab": {}
      },
      "source": [
        "TRAIN_PATH = 'heart_sound_challenge/train/'\n",
        "TEST_PATH = 'heart_sound_challenge/test/'\n",
        "\n",
        "def preprocess_data(PATH):\n",
        "  # Load data reference\n",
        "  labels = pd.read_csv(os.path.join(PATH, 'REFERENCE.csv'))\n",
        "\n",
        "  # Plug input data into numpy array\n",
        "  x = np.zeros((len(labels), 2000*5, 1)) \n",
        "  for k, recording_id in enumerate(labels.recording_id):\n",
        "    fs, audio = wavfile.read(os.path.join(PATH, recording_id + '.wav'))\n",
        "    assert(fs == 2000)\n",
        "    x[k, :, 0] = audio[:2000*5]/(2**15-1) \n",
        "    \n",
        "  # Plug labels into numpy array\n",
        "  y = pd.get_dummies(labels.label).values\n",
        "\n",
        "  return x, y\n",
        "\n",
        "X_train_1D, y_train_1D = preprocess_data(TRAIN_PATH)\n",
        "X_test_1D,  y_test_1D  = preprocess_data(TEST_PATH)"
      ],
      "execution_count": 0,
      "outputs": []
    },
    {
      "cell_type": "markdown",
      "metadata": {
        "id": "7ba8yszvuOSm",
        "colab_type": "text"
      },
      "source": [
        "## Visualizing the Data\n",
        "\n",
        "I just want to get a better idea for what some of the raw files look like. \n",
        "\n",
        "Sampling Rate (fs) = number of samples (observations) in a second = 2000 above"
      ]
    },
    {
      "cell_type": "code",
      "metadata": {
        "id": "t0CJjq7it5xE",
        "colab_type": "code",
        "colab": {}
      },
      "source": [
        "TRAIN_PATH = 'heart_sound_challenge/train/'\n",
        "TEST_PATH = 'heart_sound_challenge/test/'\n",
        "\n",
        "def visualize_data(PATH):\n",
        "  # Load data reference\n",
        "  labels = pd.read_csv(os.path.join(PATH, 'REFERENCE.csv'))\n",
        "\n",
        "  for recording_id in labels.recording_id:\n",
        "    data, sampling_rate = librosa.load(os.path.join(PATH, recording_id + '.wav'), sr=2000 )\n",
        "    display.waveplot(data, sr=sampling_rate)\n",
        "    break"
      ],
      "execution_count": 0,
      "outputs": []
    },
    {
      "cell_type": "code",
      "metadata": {
        "id": "fO3HE2yHyCfj",
        "colab_type": "code",
        "outputId": "0d13549d-ce11-4ffd-9823-d78cdd9b01e1",
        "colab": {
          "base_uri": "https://localhost:8080/",
          "height": 279
        }
      },
      "source": [
        "visualize_data(TRAIN_PATH)"
      ],
      "execution_count": 0,
      "outputs": [
        {
          "output_type": "display_data",
          "data": {
            "image/png": "[encoded data removed]",
            "text/plain": [
              "<Figure size 432x288 with 1 Axes>"
            ]
          },
          "metadata": {
            "tags": []
          }
        }
      ]
    },
    {
      "cell_type": "markdown",
      "metadata": {
        "id": "m9yTkxu3VBct",
        "colab_type": "text"
      },
      "source": [
        "## Segmentation\n",
        "\n",
        "Dividing a particular object (here heart sound) into segements based on a defined set of characteristics. Here the goal is to align the inputs and make sure we are comparing the right sequences. I'll segment into S1, systole, S2, and diastole to align with the cardiac cycle. I may not have time to do this, but I believe it will improve performance"
      ]
    },
    {
      "cell_type": "markdown",
      "metadata": {
        "id": "tYTXM6CFMOsv",
        "colab_type": "text"
      },
      "source": [
        "## 2D Preprocessing (Small Scale): Converting Audio Files to Spectrograms\n",
        "\n",
        "I want to represent the audio file as a 2D image to run CNN as an image classifier. This will allow me to use transfer learning on well established image classification models. I saw this technique used in one of the papers (Rubin et al) from the contest and I like the ability to use CNN for it's \"purpose\""
      ]
    },
    {
      "cell_type": "code",
      "metadata": {
        "id": "vyKAx8b9OLl1",
        "colab_type": "code",
        "colab": {}
      },
      "source": [
        "def windows(data, window_size):\n",
        "  # Function creates a shifting window which overlaps by 1/2 of each sequence\n",
        "  start = 0\n",
        "  while start < len(data):\n",
        "    yield int(start), int(start + window_size)\n",
        "    start += (window_size*0.5)"
      ],
      "execution_count": 0,
      "outputs": []
    },
    {
      "cell_type": "code",
      "metadata": {
        "id": "aWy-0WKycp0s",
        "colab_type": "code",
        "colab": {}
      },
      "source": [
        "def display_ampspec(PATH):\n",
        "  labels = pd.read_csv(os.path.join(PATH, 'REFERENCE.csv'))\n",
        "  for recording_id in tqdm(labels.recording_id):\n",
        "    sound_clip, sr = librosa.load(os.path.join(PATH, recording_id + '.wav'), sr=44100)\n",
        "    X = librosa.stft(sound_clip)\n",
        "    Xdb = librosa.amplitude_to_db(abs(X))\n",
        "    plt.figure(figsize=(14, 5))\n",
        "    librosa.display.specshow(Xdb, sr=sr, x_axis='time', y_axis='hz')\n",
        "    plt.colorbar()\n",
        "    plt.figure(figsize=(14, 5))\n",
        "    librosa.display.specshow(Xdb, sr=sr, x_axis='time', y_axis='log')\n",
        "    plt.colorbar()\n",
        "    break"
      ],
      "execution_count": 0,
      "outputs": []
    },
    {
      "cell_type": "code",
      "metadata": {
        "id": "b5Ihj8rjUDxV",
        "colab_type": "code",
        "outputId": "47833f81-f02d-4209-8a60-3a759373e240",
        "colab": {
          "base_uri": "https://localhost:8080/",
          "height": 685
        }
      },
      "source": [
        "display_ampspec(TRAIN_PATH)"
      ],
      "execution_count": 0,
      "outputs": [
        {
          "output_type": "stream",
          "text": [
            "\n",
            "  0%|          | 0/2939 [00:00<?, ?it/s]\u001b[A\n",
            "\u001b[A"
          ],
          "name": "stderr"
        },
        {
          "output_type": "display_data",
          "data": {
            "image/png": "[encoded data removed]",
            "text/plain": [
              "<Figure size 1008x360 with 2 Axes>"
            ]
          },
          "metadata": {
            "tags": []
          }
        },
        {
          "output_type": "display_data",
          "data": {
            "image/png": "[encoded data removed]",
            "text/plain": [
              "<Figure size 1008x360 with 2 Axes>"
            ]
          },
          "metadata": {
            "tags": []
          }
        }
      ]
    },
    {
      "cell_type": "code",
      "metadata": {
        "id": "Poadb4cdsapW",
        "colab_type": "code",
        "colab": {}
      },
      "source": [
        "def display_melspec(PATH, bands=128):\n",
        "  window_size = 512*127\n",
        "  labels = pd.read_csv(os.path.join(PATH, 'REFERENCE.csv'))\n",
        "  for i,recording in enumerate(labels.label):\n",
        "    if recording == 1:\n",
        "      sound_clip, s = librosa.load(os.path.join(PATH, labels.loc[i,'recording_id'] + '.wav'))\n",
        "      for (start, end) in windows(sound_clip, window_size):\n",
        "        if len(sound_clip[start:end])==window_size:\n",
        "          signal = sound_clip[start:end]\n",
        "          melspec = librosa.feature.melspectrogram(signal, n_mels= bands)\n",
        "          spec_shape = melspec.shape\n",
        "          melSpec_dB = librosa.power_to_db(melspec, ref=np.max)\n",
        "          plt.figure(figsize=(10, 5))\n",
        "          librosa.display.specshow(melSpec_dB, x_axis='time', y_axis='mel', sr=s, fmax=8000)\n",
        "          plt.colorbar(format='%+1.0f dB')\n",
        "          plt.title(\"MelSpectrogram Abnormal\")\n",
        "          plt.tight_layout()\n",
        "          plt.show()\n",
        "        break\n",
        "    break\n",
        "  for i,recording in enumerate(labels.label):\n",
        "    if recording == 1:\n",
        "      pass\n",
        "    else:\n",
        "      sound_clip, s = librosa.load(os.path.join(PATH, labels.loc[i,'recording_id']  + '.wav'))\n",
        "      for (start, end) in windows(sound_clip, window_size):\n",
        "        if len(sound_clip[start:end])==window_size:\n",
        "          signal = sound_clip[start:end]\n",
        "          melspec = librosa.feature.melspectrogram(signal, n_mels= bands)\n",
        "          spec_shape = melspec.shape\n",
        "          melSpec_dB = librosa.power_to_db(melspec, ref=np.max)\n",
        "          plt.figure(figsize=(10, 5))\n",
        "          librosa.display.specshow(melSpec_dB, x_axis='time', y_axis='mel', sr=s, fmax=8000)\n",
        "          plt.colorbar(format='%+1.0f dB')\n",
        "          plt.title(\"MelSpectrogram Normal\")\n",
        "          plt.tight_layout()\n",
        "          return plt.show()"
      ],
      "execution_count": 0,
      "outputs": []
    },
    {
      "cell_type": "markdown",
      "metadata": {
        "id": "liUShSFDxrDi",
        "colab_type": "text"
      },
      "source": [
        "### Visualizing an abnormal and normal Mel Spectrogram\n",
        "\n",
        "You can see the abnormal image looks more blurry and has fewer defined peaks"
      ]
    },
    {
      "cell_type": "code",
      "metadata": {
        "id": "CUrTnVOVyryl",
        "colab_type": "code",
        "outputId": "cf8cd8ff-7f66-4530-8772-a71fc157ab72",
        "colab": {
          "base_uri": "https://localhost:8080/",
          "height": 721
        }
      },
      "source": [
        "display_melspec(TRAIN_PATH)"
      ],
      "execution_count": 0,
      "outputs": [
        {
          "output_type": "display_data",
          "data": {
            "image/png": "[encoded data removed]",
            "text/plain": [
              "<Figure size 720x360 with 2 Axes>"
            ]
          },
          "metadata": {
            "tags": []
          }
        },
        {
          "output_type": "display_data",
          "data": {
            "image/png": "[encoded data removed]",
            "text/plain": [
              "<Figure size 720x360 with 2 Axes>"
            ]
          },
          "metadata": {
            "tags": []
          }
        }
      ]
    },
    {
      "cell_type": "markdown",
      "metadata": {
        "id": "HcpugiDszNDu",
        "colab_type": "text"
      },
      "source": [
        "### Get Melspec Array\n",
        "\n",
        "For now I'm just going to take the first few seconds of every recording (1 window each). I don't think this is the best way, but it takes an eon to run this thing."
      ]
    },
    {
      "cell_type": "code",
      "metadata": {
        "id": "uUAw-vOHPju2",
        "colab_type": "code",
        "colab": {}
      },
      "source": [
        "def get_features(PATH, bands=128, frames=128):\n",
        "  # Hop length = 512\n",
        "  window_size = 512*127\n",
        "  X = []\n",
        "  y = []\n",
        "  labels = pd.read_csv(os.path.join(PATH, 'REFERENCE.csv'))\n",
        "  for i,recording_id in enumerate(tqdm(labels.recording_id)):\n",
        "    sound_clip, s = librosa.load(os.path.join(PATH, recording_id + '.wav'))\n",
        "    for (start, end) in windows(sound_clip, window_size):\n",
        "        if len(sound_clip[start:end])==window_size:\n",
        "          signal = sound_clip[start:end]\n",
        "          melspec = librosa.feature.melspectrogram(signal, n_mels= bands)\n",
        "          melSpec_dB = librosa.power_to_db(melspec, ref=np.max)\n",
        "          X.append(melSpec_dB)\n",
        "        break\n",
        "  y = pd.get_dummies(labels.label).values\n",
        "  return X,y "
      ],
      "execution_count": 0,
      "outputs": []
    },
    {
      "cell_type": "code",
      "metadata": {
        "id": "q87ysx--sDKO",
        "colab_type": "code",
        "colab": {}
      },
      "source": [
        "X_train_2D, y_train_2D = get_features(TRAIN_PATH)"
      ],
      "execution_count": 0,
      "outputs": []
    },
    {
      "cell_type": "markdown",
      "metadata": {
        "id": "VePKFGGaRBI7",
        "colab_type": "text"
      },
      "source": [
        "## 2D Preprocessing (Bulk Chunking)\n",
        "I'm connecting this collab notebook to my personal google drive so that I can set up a preprocessing funnel to chunk the image data and not lose it. The pipeline will be as follows: <br/>\n",
        "1) Read in sound clip using librosa <br/>\n",
        "2) Cut data off at determined window size (~14 windows per sound clip if each window captures ~3 seconds) <br/>\n",
        "3) Transform using FFT and Mel coeff <br/>\n",
        "4) Write to csv <br/>\n",
        "5) Start new csv at 2000 samples <br/>\n",
        "- There should be ~10 chunked files using a cutoff of 2000\n",
        "\n",
        "\n",
        "1st Run: Well I miffed this up. I accidentally captured the whole signal instead of the windows I'm going for and therefore wound up with arrays of all kinds of varying shapes. After quick research on whether I should scale or not (this preprocessing took forever so I wasn't particularly keen to run it again) I think I will end up running it again. Rip.\n",
        "\n",
        "2nd Run: Fixed this shape/window problem\n",
        "\n"
      ]
    },
    {
      "cell_type": "code",
      "metadata": {
        "id": "E5oINREKT-IE",
        "colab_type": "code",
        "colab": {}
      },
      "source": [
        "def chunk_preprocess(PATH, data_name, bands=128, frames=128):\n",
        "  # Hop length = 512\n",
        "  window_size = 512*127\n",
        "  X = []\n",
        "  y = []\n",
        "  labels = pd.read_csv(os.path.join(PATH, 'REFERENCE.csv'))\n",
        "  count = 0\n",
        "  cutoff = 0\n",
        "  for i,recording_id in enumerate(tqdm(labels[158:].recording_id)):\n",
        "    sound_clip, s = librosa.load(os.path.join(PATH, recording_id + '.wav'))\n",
        "    for (start, end) in windows(sound_clip, window_size):\n",
        "      if len(sound_clip[start:end])==window_size:\n",
        "        count += 1\n",
        "        cutoff += 1\n",
        "        signal = sound_clip[start:end] \n",
        "        melspec = librosa.feature.melspectrogram(signal, n_mels= bands)\n",
        "        melSpec_dB = librosa.power_to_db(melspec, ref=np.max)\n",
        "        X.append(melSpec_dB)\n",
        "        y.append(labels.loc[i,'label'])\n",
        "      if cutoff >= 2000:\n",
        "        print(i)\n",
        "        with open(F\"/content/gdrive/My Drive/heartsound_challenge/x_{data_name}_{count}.pickle\", \"wb\") as fx:\n",
        "          pickle.dump(X,fx)\n",
        "          fx.close()\n",
        "        with open(F\"/content/gdrive/My Drive/heartsound_challenge/y_{data_name}_{count}.pickle\", \"wb\") as fy:\n",
        "          pickle.dump(y, fy)\n",
        "          fy.close()\n",
        "          cutoff = 0\n",
        "          X = []\n",
        "          y = []\n",
        "  return print(count), print(cutoff)"
      ],
      "execution_count": 0,
      "outputs": []
    },
    {
      "cell_type": "code",
      "metadata": {
        "id": "8V3BFLDxz_xC",
        "colab_type": "code",
        "outputId": "5ffdb8c2-1b32-4723-e680-ef910ae5c318",
        "colab": {
          "base_uri": "https://localhost:8080/",
          "height": 117,
          "referenced_widgets": [
            "0c786ce861a048ac957bb7eb4ab01f83",
            "5bca9d7673284557a8b10ab89b678ea7",
            "bd51c66725754cd2b6cd35c3319b8107",
            "8d8646aee654449c89fe732ae731c9ef",
            "4c51213af7b54e86bff9f73cf57efb31",
            "b1463b7045c0407aa04943fb85fd019c",
            "5af941b0ce5e4749b405732d878cdf46",
            "305e5e97b52e47649184a962b62fc25b"
          ]
        }
      },
      "source": [
        "chunk_preprocess(TEST_PATH, 'test')"
      ],
      "execution_count": 0,
      "outputs": [
        {
          "output_type": "display_data",
          "data": {
            "application/vnd.jupyter.widget-view+json": {
              "model_id": "0c786ce861a048ac957bb7eb4ab01f83",
              "version_minor": 0,
              "version_major": 2
            },
            "text/plain": [
              "HBox(children=(IntProgress(value=0, max=143), HTML(value='')))"
            ]
          },
          "metadata": {
            "tags": []
          }
        },
        {
          "output_type": "stream",
          "text": [
            "\n",
            "1874\n",
            "0\n"
          ],
          "name": "stdout"
        },
        {
          "output_type": "execute_result",
          "data": {
            "text/plain": [
              "(None, None)"
            ]
          },
          "metadata": {
            "tags": []
          },
          "execution_count": 23
        }
      ]
    },
    {
      "cell_type": "code",
      "metadata": {
        "id": "safyYkELy9Mj",
        "colab_type": "code",
        "colab": {}
      },
      "source": [
        "def chunk_png(PATH, bands=128, frames=128):\n",
        "  # Hop length = 512\n",
        "  window_size = 512*127\n",
        "  count = 0\n",
        "  labels = pd.read_csv(os.path.join(PATH, 'REFERENCE.csv'))\n",
        "  for i,recording_id in enumerate(tqdm(labels.recording_id)):\n",
        "    sound_clip, s = librosa.load(os.path.join(PATH, recording_id + '.wav'))\n",
        "    cutoff=0\n",
        "    for (start, end) in windows(sound_clip, window_size):  \n",
        "      if len(sound_clip[start:end])==window_size:\n",
        "        label = labels.label[i]\n",
        "        signal = sound_clip[start:end] \n",
        "        melspec = librosa.feature.melspectrogram(signal, n_mels= bands)\n",
        "        melSpec_dB = librosa.power_to_db(melspec, ref=np.max)\n",
        "        fig = plt.figure(figsize=(10, 5))\n",
        "        p = librosa.display.specshow(melSpec_dB, sr=s, fmax=8000)\n",
        "        fig.savefig(F'/content/gdrive/My Drive/heartsound_challenge/test/{count}_{label}.png')\n",
        "        count += 1\n",
        "        cutoff += 1\n",
        "      if cutoff > 3:\n",
        "        break"
      ],
      "execution_count": 0,
      "outputs": []
    },
    {
      "cell_type": "code",
      "metadata": {
        "id": "rT2I5eRBzCB3",
        "colab_type": "code",
        "colab": {}
      },
      "source": [
        "chunk_png(TEST_PATH)"
      ],
      "execution_count": 0,
      "outputs": []
    },
    {
      "cell_type": "markdown",
      "metadata": {
        "id": "-XdWyULbjKpL",
        "colab_type": "text"
      },
      "source": [
        "# Train a 1D convolutional neural network model\n",
        "\n",
        "For simplicity, we have defined this CNN in keras. But feel free to translate to the framework of your choice."
      ]
    },
    {
      "cell_type": "markdown",
      "metadata": {
        "id": "brgaABM5zGUp",
        "colab_type": "text"
      },
      "source": [
        "## Original (GIVEN)"
      ]
    },
    {
      "cell_type": "code",
      "metadata": {
        "id": "Bo0qXX7bd3-3",
        "colab_type": "code",
        "colab": {}
      },
      "source": [
        "# Get training and validation\n",
        "X_train_1D, X_val_1D, y_train_1D, y_val_1D = train_test_split(X_train_1D, y_train_1D, test_size=0.2, random_state=42)"
      ],
      "execution_count": 0,
      "outputs": []
    },
    {
      "cell_type": "code",
      "metadata": {
        "id": "AnNzlHcuIAdj",
        "colab_type": "code",
        "outputId": "8c5c9abd-2316-4ba9-92ad-45d7e2b54b03",
        "colab": {
          "base_uri": "https://localhost:8080/",
          "height": 51
        }
      },
      "source": [
        "zeroes = 0\n",
        "ones = 0\n",
        "for num in y_train_1D:\n",
        "  if num[0] == 0:\n",
        "    zeroes += 1\n",
        "  else:\n",
        "    ones += 1\n",
        "print(zeroes)\n",
        "print(ones)"
      ],
      "execution_count": 0,
      "outputs": [
        {
          "output_type": "stream",
          "text": [
            "411\n",
            "1940\n"
          ],
          "name": "stdout"
        }
      ]
    },
    {
      "cell_type": "code",
      "metadata": {
        "id": "iJXvqIN6Azao",
        "colab_type": "code",
        "colab": {}
      },
      "source": [
        "batch_size = 128\n",
        "num_classes = 2\n",
        "epochs = 10"
      ],
      "execution_count": 0,
      "outputs": []
    },
    {
      "cell_type": "code",
      "metadata": {
        "id": "Uarolm04CA1e",
        "colab_type": "code",
        "outputId": "92d08b08-b053-406f-9f8d-31a70248740b",
        "colab": {
          "base_uri": "https://localhost:8080/",
          "height": 751
        }
      },
      "source": [
        "model = Sequential()\n",
        "model.add(Conv1D(32, 5, activation='relu', input_shape=(X_train_1D.shape[1], 1)))\n",
        "model.add(Conv1D(32, 5, activation='relu'))\n",
        "model.add(MaxPooling1D(pool_size=(5)))\n",
        "\n",
        "model.add(Conv1D(64, 5, activation='relu'))\n",
        "model.add(Conv1D(64, 5, activation='relu'))\n",
        "model.add(MaxPooling1D(pool_size=(5)))\n",
        "\n",
        "model.add(Conv1D(128, 5, activation='relu'))\n",
        "model.add(Conv1D(128, 5, activation='relu'))\n",
        "model.add(MaxPooling1D(pool_size=(5)))\n",
        "  \n",
        "model.add(Conv1D(128, 5, activation='relu'))\n",
        "model.add(Conv1D(128, 5, activation='relu'))\n",
        "model.add(MaxPooling1D(pool_size=(5)))\n",
        "\n",
        "model.add(Flatten())\n",
        "model.add(Dense(128, activation='relu'))\n",
        "model.add(Dropout(0.5))\n",
        "model.add(Dense(num_classes, activation=Activation(tf.nn.softmax)))\n",
        "model.summary()"
      ],
      "execution_count": 0,
      "outputs": [
        {
          "output_type": "stream",
          "text": [
            "Model: \"sequential_8\"\n",
            "_________________________________________________________________\n",
            "Layer (type)                 Output Shape              Param #   \n",
            "=================================================================\n",
            "conv1d_5 (Conv1D)            (None, 9996, 32)          192       \n",
            "_________________________________________________________________\n",
            "conv1d_6 (Conv1D)            (None, 9992, 32)          5152      \n",
            "_________________________________________________________________\n",
            "max_pooling1d_5 (MaxPooling1 (None, 1998, 32)          0         \n",
            "_________________________________________________________________\n",
            "conv1d_7 (Conv1D)            (None, 1994, 64)          10304     \n",
            "_________________________________________________________________\n",
            "conv1d_8 (Conv1D)            (None, 1990, 64)          20544     \n",
            "_________________________________________________________________\n",
            "max_pooling1d_6 (MaxPooling1 (None, 398, 64)           0         \n",
            "_________________________________________________________________\n",
            "conv1d_9 (Conv1D)            (None, 394, 128)          41088     \n",
            "_________________________________________________________________\n",
            "conv1d_10 (Conv1D)           (None, 390, 128)          82048     \n",
            "_________________________________________________________________\n",
            "max_pooling1d_7 (MaxPooling1 (None, 78, 128)           0         \n",
            "_________________________________________________________________\n",
            "conv1d_11 (Conv1D)           (None, 74, 128)           82048     \n",
            "_________________________________________________________________\n",
            "conv1d_12 (Conv1D)           (None, 70, 128)           82048     \n",
            "_________________________________________________________________\n",
            "max_pooling1d_8 (MaxPooling1 (None, 14, 128)           0         \n",
            "_________________________________________________________________\n",
            "flatten_6 (Flatten)          (None, 1792)              0         \n",
            "_________________________________________________________________\n",
            "dense_11 (Dense)             (None, 128)               229504    \n",
            "_________________________________________________________________\n",
            "dropout_16 (Dropout)         (None, 128)               0         \n",
            "_________________________________________________________________\n",
            "dense_12 (Dense)             (None, 2)                 258       \n",
            "=================================================================\n",
            "Total params: 553,186\n",
            "Trainable params: 553,186\n",
            "Non-trainable params: 0\n",
            "_________________________________________________________________\n"
          ],
          "name": "stdout"
        },
        {
          "output_type": "stream",
          "text": [
            "/usr/local/lib/python3.6/dist-packages/keras/activations.py:235: UserWarning: Do not pass a layer instance (such as Activation) as the activation argument of another layer. Instead, advanced activation layers should be used just like any other layer in a model.\n",
            "  identifier=identifier.__class__.__name__))\n"
          ],
          "name": "stderr"
        }
      ]
    },
    {
      "cell_type": "markdown",
      "metadata": {
        "id": "ourp5WZL6vOE",
        "colab_type": "text"
      },
      "source": [
        "## Experiment 1: Regularization <br/>\n",
        "\n",
        "Activity regularization layer"
      ]
    },
    {
      "cell_type": "code",
      "metadata": {
        "id": "ifOeIFNe6r-f",
        "colab_type": "code",
        "colab": {}
      },
      "source": [
        "batch_size = 128\n",
        "num_classes = 2\n",
        "epochs = 10\n",
        "\n",
        "# import regularizer\n",
        "from keras.regularizers import l2\n",
        "# instantiate regularizer\n",
        "reg = l2(0.001)"
      ],
      "execution_count": 0,
      "outputs": []
    },
    {
      "cell_type": "code",
      "metadata": {
        "id": "xNhDbDCh9kO9",
        "colab_type": "code",
        "outputId": "c73d07b8-fca5-4d7a-c719-bb43fdf20499",
        "colab": {
          "base_uri": "https://localhost:8080/",
          "height": 833
        }
      },
      "source": [
        "model = Sequential()\n",
        "model.add(Conv1D(32, 5, activation='relu', input_shape=(x_train.shape[1], 1)))\n",
        "model.add(Conv1D(32, 5, activation='relu'))\n",
        "model.add(MaxPooling1D(pool_size=(5)))\n",
        "model.add(Activation('relu'))\n",
        "\n",
        "model.add(Conv1D(64, 5, activation='relu'))\n",
        "model.add(Conv1D(64, 5, activation='relu'))\n",
        "model.add(MaxPooling1D(pool_size=(5)))\n",
        "model.add(Activation('relu'))\n",
        "\n",
        "model.add(Conv1D(128, 5, activation='relu'))\n",
        "model.add(Conv1D(128, 5, activation='relu'))\n",
        "model.add(MaxPooling1D(pool_size=(5)))\n",
        "model.add(Activation('relu'))\n",
        "\n",
        "model.add(Conv1D(128, 5, activation='relu'))\n",
        "model.add(Conv1D(128, 5, activation='relu'))\n",
        "model.add(MaxPooling1D(pool_size=(5)))\n",
        "model.add(Activation('relu'))\n",
        "\n",
        "model.add(Flatten())\n",
        "model.add(Dense(128, activation='relu'))\n",
        "model.add(Dropout(0.5))\n",
        "model.add(Dense(num_classes, activation='sigmoid'))\n",
        "                #Activation(tf.nn.softmax)))\n",
        "model.summary()"
      ],
      "execution_count": 0,
      "outputs": [
        {
          "output_type": "stream",
          "text": [
            "Model: \"sequential_43\"\n",
            "_________________________________________________________________\n",
            "Layer (type)                 Output Shape              Param #   \n",
            "=================================================================\n",
            "conv1d_233 (Conv1D)          (None, 9996, 32)          192       \n",
            "_________________________________________________________________\n",
            "conv1d_234 (Conv1D)          (None, 9992, 32)          5152      \n",
            "_________________________________________________________________\n",
            "max_pooling1d_169 (MaxPoolin (None, 1998, 32)          0         \n",
            "_________________________________________________________________\n",
            "activation_145 (Activation)  (None, 1998, 32)          0         \n",
            "_________________________________________________________________\n",
            "conv1d_235 (Conv1D)          (None, 1994, 64)          10304     \n",
            "_________________________________________________________________\n",
            "conv1d_236 (Conv1D)          (None, 1990, 64)          20544     \n",
            "_________________________________________________________________\n",
            "max_pooling1d_170 (MaxPoolin (None, 398, 64)           0         \n",
            "_________________________________________________________________\n",
            "activation_146 (Activation)  (None, 398, 64)           0         \n",
            "_________________________________________________________________\n",
            "conv1d_237 (Conv1D)          (None, 394, 128)          41088     \n",
            "_________________________________________________________________\n",
            "conv1d_238 (Conv1D)          (None, 390, 128)          82048     \n",
            "_________________________________________________________________\n",
            "max_pooling1d_171 (MaxPoolin (None, 78, 128)           0         \n",
            "_________________________________________________________________\n",
            "activation_147 (Activation)  (None, 78, 128)           0         \n",
            "_________________________________________________________________\n",
            "conv1d_239 (Conv1D)          (None, 74, 128)           82048     \n",
            "_________________________________________________________________\n",
            "conv1d_240 (Conv1D)          (None, 70, 128)           82048     \n",
            "_________________________________________________________________\n",
            "max_pooling1d_172 (MaxPoolin (None, 14, 128)           0         \n",
            "_________________________________________________________________\n",
            "activation_148 (Activation)  (None, 14, 128)           0         \n",
            "_________________________________________________________________\n",
            "flatten_34 (Flatten)         (None, 1792)              0         \n",
            "_________________________________________________________________\n",
            "dense_67 (Dense)             (None, 128)               229504    \n",
            "_________________________________________________________________\n",
            "dropout_87 (Dropout)         (None, 128)               0         \n",
            "_________________________________________________________________\n",
            "dense_68 (Dense)             (None, 2)                 258       \n",
            "=================================================================\n",
            "Total params: 553,186\n",
            "Trainable params: 553,186\n",
            "Non-trainable params: 0\n",
            "_________________________________________________________________\n"
          ],
          "name": "stdout"
        }
      ]
    },
    {
      "cell_type": "markdown",
      "metadata": {
        "id": "evfKEbxPi83z",
        "colab_type": "text"
      },
      "source": [
        "## Experiment 2: Changing number of filters and filter length"
      ]
    },
    {
      "cell_type": "code",
      "metadata": {
        "id": "y276rkRQjdEJ",
        "colab_type": "code",
        "colab": {}
      },
      "source": [
        "batch_size = 128\n",
        "num_classes = 2\n",
        "epochs = 10"
      ],
      "execution_count": 0,
      "outputs": []
    },
    {
      "cell_type": "code",
      "metadata": {
        "id": "CJ6vmr5YjeSQ",
        "colab_type": "code",
        "outputId": "3b735a0c-39b4-4f2f-9f5f-20371636d556",
        "colab": {
          "base_uri": "https://localhost:8080/",
          "height": 751
        }
      },
      "source": [
        "model = Sequential()\n",
        "model.add(Conv1D(32, 5, activation='relu', input_shape=(X_train_1D.shape[1], 1)))\n",
        "model.add(Conv1D(32, 5, activation='relu'))\n",
        "model.add(MaxPooling1D(pool_size=(5)))\n",
        "\n",
        "model.add(Conv1D(64, 5, activation='relu'))\n",
        "model.add(Conv1D(64, 5, activation='relu'))\n",
        "model.add(MaxPooling1D(pool_size=(5)))\n",
        "\n",
        "model.add(Conv1D(64, 5, activation='relu'))\n",
        "model.add(Conv1D(64, 5, activation='relu'))\n",
        "model.add(MaxPooling1D(pool_size=(5)))\n",
        "  \n",
        "model.add(Conv1D(64, 5, activation='relu'))\n",
        "model.add(Conv1D(64, 5, activation='relu'))\n",
        "model.add(MaxPooling1D(pool_size=(5)))\n",
        "\n",
        "model.add(Flatten())\n",
        "model.add(Dense(128, activation='relu'))\n",
        "model.add(Dropout(0.5))\n",
        "model.add(Dense(num_classes, activation=Activation(tf.nn.softmax)))\n",
        "model.summary()"
      ],
      "execution_count": 0,
      "outputs": [
        {
          "output_type": "stream",
          "text": [
            "Model: \"sequential_13\"\n",
            "_________________________________________________________________\n",
            "Layer (type)                 Output Shape              Param #   \n",
            "=================================================================\n",
            "conv1d_30 (Conv1D)           (None, 9996, 32)          192       \n",
            "_________________________________________________________________\n",
            "conv1d_31 (Conv1D)           (None, 9992, 32)          5152      \n",
            "_________________________________________________________________\n",
            "max_pooling1d_22 (MaxPooling (None, 1998, 32)          0         \n",
            "_________________________________________________________________\n",
            "conv1d_32 (Conv1D)           (None, 1994, 64)          10304     \n",
            "_________________________________________________________________\n",
            "conv1d_33 (Conv1D)           (None, 1990, 64)          20544     \n",
            "_________________________________________________________________\n",
            "max_pooling1d_23 (MaxPooling (None, 398, 64)           0         \n",
            "_________________________________________________________________\n",
            "conv1d_34 (Conv1D)           (None, 394, 64)           20544     \n",
            "_________________________________________________________________\n",
            "conv1d_35 (Conv1D)           (None, 390, 64)           20544     \n",
            "_________________________________________________________________\n",
            "max_pooling1d_24 (MaxPooling (None, 78, 64)            0         \n",
            "_________________________________________________________________\n",
            "conv1d_36 (Conv1D)           (None, 74, 64)            20544     \n",
            "_________________________________________________________________\n",
            "conv1d_37 (Conv1D)           (None, 70, 64)            20544     \n",
            "_________________________________________________________________\n",
            "max_pooling1d_25 (MaxPooling (None, 14, 64)            0         \n",
            "_________________________________________________________________\n",
            "flatten_9 (Flatten)          (None, 896)               0         \n",
            "_________________________________________________________________\n",
            "dense_17 (Dense)             (None, 128)               114816    \n",
            "_________________________________________________________________\n",
            "dropout_23 (Dropout)         (None, 128)               0         \n",
            "_________________________________________________________________\n",
            "dense_18 (Dense)             (None, 2)                 258       \n",
            "=================================================================\n",
            "Total params: 233,442\n",
            "Trainable params: 233,442\n",
            "Non-trainable params: 0\n",
            "_________________________________________________________________\n"
          ],
          "name": "stdout"
        },
        {
          "output_type": "stream",
          "text": [
            "/usr/local/lib/python3.6/dist-packages/keras/activations.py:235: UserWarning: Do not pass a layer instance (such as Activation) as the activation argument of another layer. Instead, advanced activation layers should be used just like any other layer in a model.\n",
            "  identifier=identifier.__class__.__name__))\n"
          ],
          "name": "stderr"
        }
      ]
    },
    {
      "cell_type": "markdown",
      "metadata": {
        "id": "6BhJsF4AXoFf",
        "colab_type": "text"
      },
      "source": [
        "## Experiment 3: Adding dropout\n"
      ]
    },
    {
      "cell_type": "code",
      "metadata": {
        "id": "pOXc-4YQcnlw",
        "colab_type": "code",
        "colab": {}
      },
      "source": [
        "from keras.optimizers import SGD"
      ],
      "execution_count": 0,
      "outputs": []
    },
    {
      "cell_type": "code",
      "metadata": {
        "id": "z-d6d0OoZA9a",
        "colab_type": "code",
        "colab": {}
      },
      "source": [
        "batch_size = 128\n",
        "num_classes = 2\n",
        "epochs = 20"
      ],
      "execution_count": 0,
      "outputs": []
    },
    {
      "cell_type": "code",
      "metadata": {
        "id": "9gFDLwzYZIK4",
        "colab_type": "code",
        "outputId": "5e4e3808-9cf2-4864-f71f-e82529ffa4b6",
        "colab": {
          "base_uri": "https://localhost:8080/",
          "height": 819
        }
      },
      "source": [
        "model = Sequential()\n",
        "model.add(Conv1D(32, 5, activation='selu', input_shape=(x_train.shape[1], 1)))\n",
        "model.add(Conv1D(32, 5, activation='selu'))\n",
        "model.add(MaxPooling1D(pool_size=(5)))\n",
        "\n",
        "model.add(Conv1D(64, 5, activation='selu'))\n",
        "model.add(Conv1D(64, 5, activation='selu'))\n",
        "model.add(MaxPooling1D(pool_size=(5)))\n",
        "model.add(Dropout(0.25))\n",
        "\n",
        "model.add(Conv1D(128, 5, activation='selu'))\n",
        "model.add(Conv1D(128, 5, activation='selu'))\n",
        "model.add(MaxPooling1D(pool_size=(5)))\n",
        "\n",
        "model.add(Conv1D(128, 5, activation='selu'))\n",
        "model.add(Conv1D(128, 5, activation='selu'))\n",
        "model.add(MaxPooling1D(pool_size=(5)))\n",
        "model.add(Dropout(0.25))\n",
        "\n",
        "model.add(Flatten())\n",
        "model.add(Dense(128, activation='selu'))\n",
        "model.add(Dropout(0.5))\n",
        "model.add(Dense(num_classes, activation=Activation(tf.nn.softmax)))\n",
        "model.summary()"
      ],
      "execution_count": 0,
      "outputs": [
        {
          "output_type": "stream",
          "text": [
            "Model: \"sequential_22\"\n",
            "_________________________________________________________________\n",
            "Layer (type)                 Output Shape              Param #   \n",
            "=================================================================\n",
            "conv1d_109 (Conv1D)          (None, 9996, 32)          192       \n",
            "_________________________________________________________________\n",
            "conv1d_110 (Conv1D)          (None, 9992, 32)          5152      \n",
            "_________________________________________________________________\n",
            "max_pooling1d_63 (MaxPooling (None, 1998, 32)          0         \n",
            "_________________________________________________________________\n",
            "conv1d_111 (Conv1D)          (None, 1994, 64)          10304     \n",
            "_________________________________________________________________\n",
            "conv1d_112 (Conv1D)          (None, 1990, 64)          20544     \n",
            "_________________________________________________________________\n",
            "max_pooling1d_64 (MaxPooling (None, 398, 64)           0         \n",
            "_________________________________________________________________\n",
            "dropout_46 (Dropout)         (None, 398, 64)           0         \n",
            "_________________________________________________________________\n",
            "conv1d_113 (Conv1D)          (None, 394, 128)          41088     \n",
            "_________________________________________________________________\n",
            "conv1d_114 (Conv1D)          (None, 390, 128)          82048     \n",
            "_________________________________________________________________\n",
            "max_pooling1d_65 (MaxPooling (None, 78, 128)           0         \n",
            "_________________________________________________________________\n",
            "conv1d_115 (Conv1D)          (None, 74, 128)           82048     \n",
            "_________________________________________________________________\n",
            "conv1d_116 (Conv1D)          (None, 70, 128)           82048     \n",
            "_________________________________________________________________\n",
            "max_pooling1d_66 (MaxPooling (None, 14, 128)           0         \n",
            "_________________________________________________________________\n",
            "dropout_47 (Dropout)         (None, 14, 128)           0         \n",
            "_________________________________________________________________\n",
            "flatten_19 (Flatten)         (None, 1792)              0         \n",
            "_________________________________________________________________\n",
            "dense_37 (Dense)             (None, 128)               229504    \n",
            "_________________________________________________________________\n",
            "dropout_48 (Dropout)         (None, 128)               0         \n",
            "_________________________________________________________________\n",
            "dense_38 (Dense)             (None, 2)                 258       \n",
            "=================================================================\n",
            "Total params: 553,186\n",
            "Trainable params: 553,186\n",
            "Non-trainable params: 0\n",
            "_________________________________________________________________\n"
          ],
          "name": "stdout"
        },
        {
          "output_type": "stream",
          "text": [
            "/usr/local/lib/python3.6/dist-packages/keras/activations.py:235: UserWarning: Do not pass a layer instance (such as Activation) as the activation argument of another layer. Instead, advanced activation layers should be used just like any other layer in a model.\n",
            "  identifier=identifier.__class__.__name__))\n"
          ],
          "name": "stderr"
        }
      ]
    },
    {
      "cell_type": "markdown",
      "metadata": {
        "id": "6CtWsv_3e1Bi",
        "colab_type": "text"
      },
      "source": [
        "## Experiment 4: Removing convolutional Layers"
      ]
    },
    {
      "cell_type": "code",
      "metadata": {
        "id": "EFrXSkyFdbNX",
        "colab_type": "code",
        "outputId": "8aa3c855-3601-4227-f805-dd9752ea6f8f",
        "colab": {
          "base_uri": "https://localhost:8080/",
          "height": 819
        }
      },
      "source": [
        "model = Sequential()\n",
        "model.add(Conv1D(32, 5, activation='elu', input_shape=(X_train_1D.shape[1], 1)))\n",
        "model.add(MaxPooling1D(pool_size=(5)))\n",
        "model.add(Activation('relu'))\n",
        "\n",
        "model.add(Conv1D(64, 5, activation='elu'))\n",
        "model.add(MaxPooling1D(pool_size=(5)))\n",
        "model.add(Activation('relu'))\n",
        "model.add(Dropout(0.25))\n",
        "\n",
        "model.add(Conv1D(128, 5, activation='elu'))\n",
        "model.add(MaxPooling1D(pool_size=(5)))\n",
        "model.add(Activation('relu'))\n",
        "\n",
        "model.add(Conv1D(128, 5, activation='elu'))\n",
        "model.add(MaxPooling1D(pool_size=(5)))\n",
        "model.add(Activation('relu'))\n",
        "model.add(Dropout(0.25))\n",
        "\n",
        "#model.add(Conv1D(128, 5,strides=6, activation='elu'))\n",
        "#model.add(MaxPooling1D(pool_size=(5)))\n",
        "#model.add(Activation('relu'))\n",
        "\n",
        "model.add(Flatten())\n",
        "model.add(Dense(128, activation='relu'))\n",
        "model.add(Dropout(0.5))\n",
        "model.add(Dense(num_classes, activation=Activation(tf.nn.softmax)))\n",
        "model.summary()"
      ],
      "execution_count": 0,
      "outputs": [
        {
          "output_type": "stream",
          "text": [
            "Model: \"sequential_14\"\n",
            "_________________________________________________________________\n",
            "Layer (type)                 Output Shape              Param #   \n",
            "=================================================================\n",
            "conv1d_38 (Conv1D)           (None, 9996, 32)          192       \n",
            "_________________________________________________________________\n",
            "max_pooling1d_26 (MaxPooling (None, 1999, 32)          0         \n",
            "_________________________________________________________________\n",
            "activation_26 (Activation)   (None, 1999, 32)          0         \n",
            "_________________________________________________________________\n",
            "conv1d_39 (Conv1D)           (None, 1995, 64)          10304     \n",
            "_________________________________________________________________\n",
            "max_pooling1d_27 (MaxPooling (None, 399, 64)           0         \n",
            "_________________________________________________________________\n",
            "activation_27 (Activation)   (None, 399, 64)           0         \n",
            "_________________________________________________________________\n",
            "dropout_24 (Dropout)         (None, 399, 64)           0         \n",
            "_________________________________________________________________\n",
            "conv1d_40 (Conv1D)           (None, 395, 128)          41088     \n",
            "_________________________________________________________________\n",
            "max_pooling1d_28 (MaxPooling (None, 79, 128)           0         \n",
            "_________________________________________________________________\n",
            "activation_28 (Activation)   (None, 79, 128)           0         \n",
            "_________________________________________________________________\n",
            "conv1d_41 (Conv1D)           (None, 75, 128)           82048     \n",
            "_________________________________________________________________\n",
            "max_pooling1d_29 (MaxPooling (None, 15, 128)           0         \n",
            "_________________________________________________________________\n",
            "activation_29 (Activation)   (None, 15, 128)           0         \n",
            "_________________________________________________________________\n",
            "dropout_25 (Dropout)         (None, 15, 128)           0         \n",
            "_________________________________________________________________\n",
            "flatten_10 (Flatten)         (None, 1920)              0         \n",
            "_________________________________________________________________\n",
            "dense_19 (Dense)             (None, 128)               245888    \n",
            "_________________________________________________________________\n",
            "dropout_26 (Dropout)         (None, 128)               0         \n",
            "_________________________________________________________________\n",
            "dense_20 (Dense)             (None, 2)                 258       \n",
            "=================================================================\n",
            "Total params: 379,778\n",
            "Trainable params: 379,778\n",
            "Non-trainable params: 0\n",
            "_________________________________________________________________\n"
          ],
          "name": "stdout"
        },
        {
          "output_type": "stream",
          "text": [
            "/usr/local/lib/python3.6/dist-packages/keras/activations.py:235: UserWarning: Do not pass a layer instance (such as Activation) as the activation argument of another layer. Instead, advanced activation layers should be used just like any other layer in a model.\n",
            "  identifier=identifier.__class__.__name__))\n"
          ],
          "name": "stderr"
        }
      ]
    },
    {
      "cell_type": "code",
      "metadata": {
        "id": "TZpRDEGpRTbz",
        "colab_type": "code",
        "colab": {}
      },
      "source": [
        "sgd = SGD(lr=0.01, decay=1e-6, momentum=0.9, nesterov=True, clipnorm=5)"
      ],
      "execution_count": 0,
      "outputs": []
    },
    {
      "cell_type": "markdown",
      "metadata": {
        "id": "N0IHYk14_tJr",
        "colab_type": "text"
      },
      "source": [
        "## Train 1D Model"
      ]
    },
    {
      "cell_type": "code",
      "metadata": {
        "id": "wFv4_y5nuLRI",
        "colab_type": "code",
        "outputId": "729286e2-96d6-47ec-8c95-67e175ee45ae",
        "colab": {
          "base_uri": "https://localhost:8080/",
          "height": 357
        }
      },
      "source": [
        "model.compile(\n",
        "  loss=keras.losses.categorical_crossentropy,\n",
        "  #optimizer=sgd,\n",
        "  optimizer=keras.optimizers.Adam(),\n",
        "  metrics=['accuracy'],\n",
        ")\n",
        "\n",
        "history = model.fit(\n",
        "    X_train_1D, \n",
        "    y_train_1D,\n",
        "    batch_size=batch_size,\n",
        "    epochs=epochs,\n",
        "    verbose=1,\n",
        "    shuffle=True,\n",
        ")"
      ],
      "execution_count": 0,
      "outputs": [
        {
          "output_type": "stream",
          "text": [
            "Epoch 1/10\n",
            "1880/1880 [==============================] - 2s 1ms/step - loss: 0.4823 - acc: 0.8000\n",
            "Epoch 2/10\n",
            "1880/1880 [==============================] - 1s 286us/step - loss: 0.4257 - acc: 0.8261\n",
            "Epoch 3/10\n",
            "1880/1880 [==============================] - 1s 282us/step - loss: 0.3803 - acc: 0.8261\n",
            "Epoch 4/10\n",
            "1880/1880 [==============================] - 1s 282us/step - loss: 0.3361 - acc: 0.8261\n",
            "Epoch 5/10\n",
            "1880/1880 [==============================] - 1s 275us/step - loss: 0.3051 - acc: 0.8261\n",
            "Epoch 6/10\n",
            "1880/1880 [==============================] - 1s 278us/step - loss: 0.2932 - acc: 0.8463\n",
            "Epoch 7/10\n",
            "1880/1880 [==============================] - 1s 275us/step - loss: 0.2999 - acc: 0.8638\n",
            "Epoch 8/10\n",
            "1880/1880 [==============================] - 1s 280us/step - loss: 0.2983 - acc: 0.8638\n",
            "Epoch 9/10\n",
            "1880/1880 [==============================] - 1s 276us/step - loss: 0.2600 - acc: 0.8782\n",
            "Epoch 10/10\n",
            "1880/1880 [==============================] - 1s 277us/step - loss: 0.2449 - acc: 0.8952\n"
          ],
          "name": "stdout"
        }
      ]
    },
    {
      "cell_type": "markdown",
      "metadata": {
        "id": "1_FY6XkkX4uX",
        "colab_type": "text"
      },
      "source": [
        "# Training 2D CNN (Small Scale)\n",
        "\n",
        "Running the CNN on just 1 image per sample (1 image being ~3 seconds of data"
      ]
    },
    {
      "cell_type": "code",
      "metadata": {
        "id": "uujdNx6qg-Nh",
        "colab_type": "code",
        "colab": {}
      },
      "source": [
        "file_xtrain = open('heart_sound_challenge/train/X_train.pickle', 'rb')\n",
        "X_train = pickle.load(file_xtrain)\n",
        "file_ytrain = open('heart_sound_challenge/train/y_train.pickle', 'rb')\n",
        "y_train = pickle.load(file_ytrain)"
      ],
      "execution_count": 0,
      "outputs": []
    },
    {
      "cell_type": "code",
      "metadata": {
        "id": "UKQag1JFdNS_",
        "colab_type": "code",
        "colab": {}
      },
      "source": [
        "# Get training and validation\n",
        "X_train_2D, X_val_2D, y_train_2D, y_val_2D = train_test_split(X_train_2D, y_train_2D, test_size=0.2, random_state=42)"
      ],
      "execution_count": 0,
      "outputs": []
    },
    {
      "cell_type": "code",
      "metadata": {
        "id": "HSeRw3DNi0wO",
        "colab_type": "code",
        "colab": {}
      },
      "source": [
        "X_train_2D = np.array(X_train_2D)\n",
        "X_train_2D = np.expand_dims(X_train_2D, axis=3)"
      ],
      "execution_count": 0,
      "outputs": []
    },
    {
      "cell_type": "code",
      "metadata": {
        "id": "ezDFdZFxmAA6",
        "colab_type": "code",
        "outputId": "cff7c274-e353-4221-bd66-f1db41fbbf53",
        "colab": {
          "base_uri": "https://localhost:8080/",
          "height": 34
        }
      },
      "source": [
        "X_train_2D.shape"
      ],
      "execution_count": 0,
      "outputs": [
        {
          "output_type": "execute_result",
          "data": {
            "text/plain": [
              "(2351, 128, 128, 1)"
            ]
          },
          "metadata": {
            "tags": []
          },
          "execution_count": 85
        }
      ]
    },
    {
      "cell_type": "code",
      "metadata": {
        "id": "994oTrapc4uR",
        "colab_type": "code",
        "colab": {}
      },
      "source": [
        "batch_size = 128\n",
        "num_classes = 2\n",
        "epochs = 20"
      ],
      "execution_count": 0,
      "outputs": []
    },
    {
      "cell_type": "code",
      "metadata": {
        "id": "ahXD8ruBYqRy",
        "colab_type": "code",
        "outputId": "9c40d238-3ea6-487e-d133-51b1b02b063b",
        "colab": {
          "base_uri": "https://localhost:8080/",
          "height": 595
        }
      },
      "source": [
        "model = Sequential()\n",
        "model.add(Conv2D(32, kernel_size=(3, 3), activation='relu', \n",
        "                 input_shape=(128,128,1), data_format='channels_last'))\n",
        "model.add(Conv2D(64, kernel_size=(3, 3), activation='relu'))\n",
        "model.add(MaxPooling2D(pool_size=(2, 2)))\n",
        "model.add(Activation('relu'))\n",
        "model.add(Dropout(0.25))\n",
        "\n",
        "model.add(Conv2D(128, kernel_size=(3, 3), activation='relu'))\n",
        "model.add(MaxPooling2D(pool_size=(2,2)))\n",
        "model.add(Activation('relu'))\n",
        "model.add(Dropout(0.25))\n",
        "\n",
        "model.add(Flatten())\n",
        "model.add(Dense(128, activation='relu'))\n",
        "model.add(Dropout(0.5))\n",
        "model.add(Dense(num_classes, activation='softmax'))\n",
        "model.summary()"
      ],
      "execution_count": 0,
      "outputs": [
        {
          "output_type": "stream",
          "text": [
            "Model: \"sequential_8\"\n",
            "_________________________________________________________________\n",
            "Layer (type)                 Output Shape              Param #   \n",
            "=================================================================\n",
            "conv2d_14 (Conv2D)           (None, 126, 126, 32)      320       \n",
            "_________________________________________________________________\n",
            "conv2d_15 (Conv2D)           (None, 124, 124, 64)      18496     \n",
            "_________________________________________________________________\n",
            "max_pooling2d_8 (MaxPooling2 (None, 62, 62, 64)        0         \n",
            "_________________________________________________________________\n",
            "activation_9 (Activation)    (None, 62, 62, 64)        0         \n",
            "_________________________________________________________________\n",
            "dropout_13 (Dropout)         (None, 62, 62, 64)        0         \n",
            "_________________________________________________________________\n",
            "conv2d_16 (Conv2D)           (None, 60, 60, 128)       73856     \n",
            "_________________________________________________________________\n",
            "max_pooling2d_9 (MaxPooling2 (None, 30, 30, 128)       0         \n",
            "_________________________________________________________________\n",
            "activation_10 (Activation)   (None, 30, 30, 128)       0         \n",
            "_________________________________________________________________\n",
            "dropout_14 (Dropout)         (None, 30, 30, 128)       0         \n",
            "_________________________________________________________________\n",
            "flatten_6 (Flatten)          (None, 115200)            0         \n",
            "_________________________________________________________________\n",
            "dense_11 (Dense)             (None, 128)               14745728  \n",
            "_________________________________________________________________\n",
            "dropout_15 (Dropout)         (None, 128)               0         \n",
            "_________________________________________________________________\n",
            "dense_12 (Dense)             (None, 2)                 258       \n",
            "=================================================================\n",
            "Total params: 14,838,658\n",
            "Trainable params: 14,838,658\n",
            "Non-trainable params: 0\n",
            "_________________________________________________________________\n"
          ],
          "name": "stdout"
        }
      ]
    },
    {
      "cell_type": "code",
      "metadata": {
        "id": "yxDo8pHSeLaq",
        "colab_type": "code",
        "outputId": "81dfee50-edf1-4499-9976-b48d3ac41f9a",
        "colab": {
          "base_uri": "https://localhost:8080/",
          "height": 697
        }
      },
      "source": [
        "model.compile(loss=keras.losses.categorical_crossentropy, \n",
        "              optimizer=keras.optimizers.adam(), \n",
        "              metrics=['accuracy'])\n",
        "history = model.fit(\n",
        "    X_train_2D, \n",
        "    y_train_2D,\n",
        "    batch_size=batch_size,\n",
        "    epochs=epochs,\n",
        "    verbose=1,\n",
        "    shuffle=True,\n",
        ")"
      ],
      "execution_count": 0,
      "outputs": [
        {
          "output_type": "stream",
          "text": [
            "Epoch 1/20\n",
            "2351/2351 [==============================] - 8s 3ms/step - loss: 2.5205 - acc: 0.7997\n",
            "Epoch 2/20\n",
            "2351/2351 [==============================] - 7s 3ms/step - loss: 1.4455 - acc: 0.8107\n",
            "Epoch 3/20\n",
            "2351/2351 [==============================] - 7s 3ms/step - loss: 0.4812 - acc: 0.8252\n",
            "Epoch 4/20\n",
            "2351/2351 [==============================] - 7s 3ms/step - loss: 0.4530 - acc: 0.8252\n",
            "Epoch 5/20\n",
            "2351/2351 [==============================] - 7s 3ms/step - loss: 0.4203 - acc: 0.8252\n",
            "Epoch 6/20\n",
            "2351/2351 [==============================] - 7s 3ms/step - loss: 0.4032 - acc: 0.8252\n",
            "Epoch 7/20\n",
            "2351/2351 [==============================] - 7s 3ms/step - loss: 0.3921 - acc: 0.8252\n",
            "Epoch 8/20\n",
            "2351/2351 [==============================] - 7s 3ms/step - loss: 0.3856 - acc: 0.8252\n",
            "Epoch 9/20\n",
            "2351/2351 [==============================] - 7s 3ms/step - loss: 0.3785 - acc: 0.8252\n",
            "Epoch 10/20\n",
            "2351/2351 [==============================] - 7s 3ms/step - loss: 0.3731 - acc: 0.8252\n",
            "Epoch 11/20\n",
            "2351/2351 [==============================] - 7s 3ms/step - loss: 0.3669 - acc: 0.8252\n",
            "Epoch 12/20\n",
            "2351/2351 [==============================] - 7s 3ms/step - loss: 0.3547 - acc: 0.8252\n",
            "Epoch 13/20\n",
            "2351/2351 [==============================] - 7s 3ms/step - loss: 0.3398 - acc: 0.8252\n",
            "Epoch 14/20\n",
            "2351/2351 [==============================] - 7s 3ms/step - loss: 0.3343 - acc: 0.8252\n",
            "Epoch 15/20\n",
            "2351/2351 [==============================] - 7s 3ms/step - loss: 0.3281 - acc: 0.8273\n",
            "Epoch 16/20\n",
            "2351/2351 [==============================] - 7s 3ms/step - loss: 0.3150 - acc: 0.8239\n",
            "Epoch 17/20\n",
            "2351/2351 [==============================] - 7s 3ms/step - loss: 0.3158 - acc: 0.8252\n",
            "Epoch 18/20\n",
            "2351/2351 [==============================] - 7s 3ms/step - loss: 0.3031 - acc: 0.8252\n",
            "Epoch 19/20\n",
            "2351/2351 [==============================] - 7s 3ms/step - loss: 0.3056 - acc: 0.8252\n",
            "Epoch 20/20\n",
            "2351/2351 [==============================] - 7s 3ms/step - loss: 0.3079 - acc: 0.8252\n"
          ],
          "name": "stdout"
        }
      ]
    },
    {
      "cell_type": "markdown",
      "metadata": {
        "id": "zZdB1mZc4be0",
        "colab_type": "text"
      },
      "source": [
        "# Training 2D CNN (Bulk)\n",
        "\n",
        "I'm running into issues still here that I need to sort out. I haven't run too many generators, so this is a debugging nightmare for sure. I still believe this model will improve performance once it works. \n"
      ]
    },
    {
      "cell_type": "code",
      "metadata": {
        "id": "eW0lkOrM4eZv",
        "colab_type": "code",
        "colab": {}
      },
      "source": [
        "train_files = []\n",
        "test_files = []\n",
        "with os.scandir('/content/gdrive/My Drive/heartsound_challenge/') as entries:\n",
        "  for entry in entries:\n",
        "    if 'train' in entry.name:\n",
        "      train_files.append(entry.name)\n",
        "    else:\n",
        "      test_files.append(entry.name)"
      ],
      "execution_count": 0,
      "outputs": []
    },
    {
      "cell_type": "code",
      "metadata": {
        "id": "0ucobsr-5xiC",
        "colab_type": "code",
        "colab": {}
      },
      "source": [
        "# Getting file names for validation set\n",
        "train_files = np.array(train_files)\n",
        "val_files = train_files[np.r_[0:2, 14:16, 32:34]]\n",
        "train_files = train_files[np.r_[2:14,16:32, 34:]]"
      ],
      "execution_count": 0,
      "outputs": []
    },
    {
      "cell_type": "code",
      "metadata": {
        "colab_type": "code",
        "id": "eg59vEe2xgRu",
        "colab": {}
      },
      "source": [
        "path = open(F\"/content/gdrive/My Drive/heartsound_challenge/y_train_2000.pickle\", 'rb')\n",
        "y = pickle.load(path)"
      ],
      "execution_count": 0,
      "outputs": []
    },
    {
      "cell_type": "code",
      "metadata": {
        "id": "-D0o0DeDHy2r",
        "colab_type": "code",
        "outputId": "527a9c21-b768-4dd0-c71c-88c9bb19d8fb",
        "colab": {
          "base_uri": "https://localhost:8080/",
          "height": 34
        }
      },
      "source": [
        "len(val_files)"
      ],
      "execution_count": 0,
      "outputs": [
        {
          "output_type": "execute_result",
          "data": {
            "text/plain": [
              "6"
            ]
          },
          "metadata": {
            "tags": []
          },
          "execution_count": 13
        }
      ]
    },
    {
      "cell_type": "code",
      "metadata": {
        "id": "PWZ9D3rd8Lsz",
        "colab_type": "code",
        "colab": {}
      },
      "source": [
        "def fileLoader(files, batch_size):\n",
        "  L = len(files)\n",
        "  while True:\n",
        "    for file_x, file_y in zip(files[::2], files[1::2]):\n",
        "      batch_start = 0\n",
        "      batch_end = batch_size\n",
        "      while batch_start < batch_end:\n",
        "        path = open(F\"/content/gdrive/My Drive/heartsound_challenge/{file_x}\", 'rb')\n",
        "        x = pickle.load(path)\n",
        "        batch_x = x[batch_start:batch_end]\n",
        "        batch_x = np.array(batch_x)\n",
        "        batch_x = np.expand_dims(batch_x, axis=3)\n",
        "        path = open(F\"/content/gdrive/My Drive/heartsound_challenge/{file_y}\", 'rb')\n",
        "        y = pickle.load(path)\n",
        "        batch_y = y[batch_start:batch_end]\n",
        "        batch_y = np.array(batch_y)\n",
        "        batch_y = np.expand_dims(batch_y, axis=1)\n",
        "        batch_y = to_categorical(batch_y)\n",
        "        yield (batch_x,batch_y) \n",
        "        batch_start += batch_size   \n",
        "        batch_end += batch_size\n",
        "      x = None\n",
        "      y = None"
      ],
      "execution_count": 0,
      "outputs": []
    },
    {
      "cell_type": "code",
      "metadata": {
        "id": "IJCVFArLG_HM",
        "colab_type": "code",
        "colab": {}
      },
      "source": [
        "batch_size = 200\n",
        "num_classes = 2\n",
        "epochs = 20"
      ],
      "execution_count": 0,
      "outputs": []
    },
    {
      "cell_type": "code",
      "metadata": {
        "id": "zUveSA1b0zJP",
        "colab_type": "code",
        "outputId": "ff76ed2f-7713-416d-af63-0d5c44399551",
        "colab": {
          "base_uri": "https://localhost:8080/",
          "height": 836
        }
      },
      "source": [
        "model = Sequential()\n",
        "model.add(Conv2D(32, kernel_size=(3, 3), activation='relu', \n",
        "                 input_shape=(128,128,1), data_format='channels_last'))\n",
        "model.add(Conv2D(64, kernel_size=(3, 3), activation='relu'))\n",
        "model.add(MaxPooling2D(pool_size=(2, 2)))\n",
        "model.add(Activation('relu'))\n",
        "model.add(Dropout(0.25))\n",
        "\n",
        "model.add(Conv2D(128, kernel_size=(3, 3), activation='relu'))\n",
        "model.add(MaxPooling2D(pool_size=(2,2)))\n",
        "model.add(Activation('relu'))\n",
        "model.add(Dropout(0.25))\n",
        "\n",
        "model.add(Flatten())\n",
        "model.add(Dense(128, activation='relu'))\n",
        "model.add(Dropout(0.5))\n",
        "model.add(Dense(num_classes, activation='softmax'))\n",
        "model.summary()"
      ],
      "execution_count": 0,
      "outputs": [
        {
          "output_type": "stream",
          "text": [
            "WARNING:tensorflow:From /usr/local/lib/python3.6/dist-packages/keras/backend/tensorflow_backend.py:66: The name tf.get_default_graph is deprecated. Please use tf.compat.v1.get_default_graph instead.\n",
            "\n",
            "WARNING:tensorflow:From /usr/local/lib/python3.6/dist-packages/keras/backend/tensorflow_backend.py:541: The name tf.placeholder is deprecated. Please use tf.compat.v1.placeholder instead.\n",
            "\n",
            "WARNING:tensorflow:From /usr/local/lib/python3.6/dist-packages/keras/backend/tensorflow_backend.py:4432: The name tf.random_uniform is deprecated. Please use tf.random.uniform instead.\n",
            "\n",
            "WARNING:tensorflow:From /usr/local/lib/python3.6/dist-packages/keras/backend/tensorflow_backend.py:4267: The name tf.nn.max_pool is deprecated. Please use tf.nn.max_pool2d instead.\n",
            "\n",
            "WARNING:tensorflow:From /usr/local/lib/python3.6/dist-packages/keras/backend/tensorflow_backend.py:148: The name tf.placeholder_with_default is deprecated. Please use tf.compat.v1.placeholder_with_default instead.\n",
            "\n",
            "WARNING:tensorflow:From /usr/local/lib/python3.6/dist-packages/keras/backend/tensorflow_backend.py:3733: calling dropout (from tensorflow.python.ops.nn_ops) with keep_prob is deprecated and will be removed in a future version.\n",
            "Instructions for updating:\n",
            "Please use `rate` instead of `keep_prob`. Rate should be set to `rate = 1 - keep_prob`.\n",
            "Model: \"sequential_1\"\n",
            "_________________________________________________________________\n",
            "Layer (type)                 Output Shape              Param #   \n",
            "=================================================================\n",
            "conv2d_1 (Conv2D)            (None, 126, 126, 32)      320       \n",
            "_________________________________________________________________\n",
            "conv2d_2 (Conv2D)            (None, 124, 124, 64)      18496     \n",
            "_________________________________________________________________\n",
            "max_pooling2d_1 (MaxPooling2 (None, 62, 62, 64)        0         \n",
            "_________________________________________________________________\n",
            "activation_1 (Activation)    (None, 62, 62, 64)        0         \n",
            "_________________________________________________________________\n",
            "dropout_1 (Dropout)          (None, 62, 62, 64)        0         \n",
            "_________________________________________________________________\n",
            "conv2d_3 (Conv2D)            (None, 60, 60, 128)       73856     \n",
            "_________________________________________________________________\n",
            "max_pooling2d_2 (MaxPooling2 (None, 30, 30, 128)       0         \n",
            "_________________________________________________________________\n",
            "activation_2 (Activation)    (None, 30, 30, 128)       0         \n",
            "_________________________________________________________________\n",
            "dropout_2 (Dropout)          (None, 30, 30, 128)       0         \n",
            "_________________________________________________________________\n",
            "flatten_1 (Flatten)          (None, 115200)            0         \n",
            "_________________________________________________________________\n",
            "dense_1 (Dense)              (None, 128)               14745728  \n",
            "_________________________________________________________________\n",
            "dropout_3 (Dropout)          (None, 128)               0         \n",
            "_________________________________________________________________\n",
            "dense_2 (Dense)              (None, 2)                 258       \n",
            "=================================================================\n",
            "Total params: 14,838,658\n",
            "Trainable params: 14,838,658\n",
            "Non-trainable params: 0\n",
            "_________________________________________________________________\n"
          ],
          "name": "stdout"
        }
      ]
    },
    {
      "cell_type": "code",
      "metadata": {
        "id": "i1GEjLbd2uwr",
        "colab_type": "code",
        "colab": {}
      },
      "source": [
        "training_generator = fileLoader(train_files,200)\n",
        "validation_generator = fileLoader(val_files,200)"
      ],
      "execution_count": 0,
      "outputs": []
    },
    {
      "cell_type": "code",
      "metadata": {
        "id": "oTQydmR-2E0R",
        "colab_type": "code",
        "outputId": "afda00e9-0194-449d-9dd8-52f4f322ee07",
        "colab": {
          "base_uri": "https://localhost:8080/",
          "height": 1000
        }
      },
      "source": [
        "model.compile(loss=keras.losses.categorical_crossentropy, \n",
        "              optimizer=keras.optimizers.adam(), \n",
        "              metrics=['accuracy'])\n",
        "history = model.fit_generator(\n",
        "    generator = training_generator, \n",
        "    validation_data = validation_generator, \n",
        "    use_multiprocessing=True,\n",
        "    steps_per_epoch=210,\n",
        "    validation_steps=30,\n",
        "    epochs=20,\n",
        "    verbose=1,\n",
        "    shuffle=True,\n",
        ")"
      ],
      "execution_count": 0,
      "outputs": [
        {
          "output_type": "stream",
          "text": [
            "WARNING:tensorflow:From /usr/local/lib/python3.6/dist-packages/keras/optimizers.py:793: The name tf.train.Optimizer is deprecated. Please use tf.compat.v1.train.Optimizer instead.\n",
            "\n",
            "WARNING:tensorflow:From /usr/local/lib/python3.6/dist-packages/keras/backend/tensorflow_backend.py:3576: The name tf.log is deprecated. Please use tf.math.log instead.\n",
            "\n",
            "WARNING:tensorflow:From /tensorflow-1.15.0/python3.6/tensorflow_core/python/ops/math_grad.py:1424: where (from tensorflow.python.ops.array_ops) is deprecated and will be removed in a future version.\n",
            "Instructions for updating:\n",
            "Use tf.where in 2.0, which has the same broadcast rule as np.where\n",
            "WARNING:tensorflow:From /usr/local/lib/python3.6/dist-packages/keras/backend/tensorflow_backend.py:1033: The name tf.assign_add is deprecated. Please use tf.compat.v1.assign_add instead.\n",
            "\n",
            "WARNING:tensorflow:From /usr/local/lib/python3.6/dist-packages/keras/backend/tensorflow_backend.py:1020: The name tf.assign is deprecated. Please use tf.compat.v1.assign instead.\n",
            "\n",
            "WARNING:tensorflow:From /usr/local/lib/python3.6/dist-packages/keras/backend/tensorflow_backend.py:3005: The name tf.Session is deprecated. Please use tf.compat.v1.Session instead.\n",
            "\n",
            "Epoch 1/20\n",
            "WARNING:tensorflow:From /usr/local/lib/python3.6/dist-packages/keras/backend/tensorflow_backend.py:190: The name tf.get_default_session is deprecated. Please use tf.compat.v1.get_default_session instead.\n",
            "\n",
            "WARNING:tensorflow:From /usr/local/lib/python3.6/dist-packages/keras/backend/tensorflow_backend.py:197: The name tf.ConfigProto is deprecated. Please use tf.compat.v1.ConfigProto instead.\n",
            "\n",
            "WARNING:tensorflow:From /usr/local/lib/python3.6/dist-packages/keras/backend/tensorflow_backend.py:207: The name tf.global_variables is deprecated. Please use tf.compat.v1.global_variables instead.\n",
            "\n",
            "WARNING:tensorflow:From /usr/local/lib/python3.6/dist-packages/keras/backend/tensorflow_backend.py:216: The name tf.is_variable_initialized is deprecated. Please use tf.compat.v1.is_variable_initialized instead.\n",
            "\n",
            "WARNING:tensorflow:From /usr/local/lib/python3.6/dist-packages/keras/backend/tensorflow_backend.py:223: The name tf.variables_initializer is deprecated. Please use tf.compat.v1.variables_initializer instead.\n",
            "\n",
            " 10/210 [>.............................] - ETA: 6:25 - loss: 0.7830 - acc: 0.9375"
          ],
          "name": "stdout"
        },
        {
          "output_type": "error",
          "ename": "AxisError",
          "evalue": "ignored",
          "traceback": [
            "\u001b[0;31m---------------------------------------------------------------------------\u001b[0m",
            "\u001b[0;31mRemoteTraceback\u001b[0m                           Traceback (most recent call last)",
            "\u001b[0;31mRemoteTraceback\u001b[0m: \n\"\"\"\nTraceback (most recent call last):\n  File \"/usr/lib/python3.6/multiprocessing/pool.py\", line 119, in worker\n    result = (True, func(*args, **kwds))\n  File \"/usr/local/lib/python3.6/dist-packages/keras/utils/data_utils.py\", line 641, in next_sample\n    return six.next(_SHARED_SEQUENCES[uid])\n  File \"<ipython-input-7-04a4667c3270>\", line 12, in fileLoader\n    batch_x = np.expand_dims(batch_x, axis=3)\n  File \"<__array_function__ internals>\", line 6, in expand_dims\n  File \"/usr/local/lib/python3.6/dist-packages/numpy/lib/shape_base.py\", line 597, in expand_dims\n    axis = normalize_axis_tuple(axis, out_ndim)\n  File \"/usr/local/lib/python3.6/dist-packages/numpy/core/numeric.py\", line 1327, in normalize_axis_tuple\n    axis = tuple([normalize_axis_index(ax, ndim, argname) for ax in axis])\n  File \"/usr/local/lib/python3.6/dist-packages/numpy/core/numeric.py\", line 1327, in <listcomp>\n    axis = tuple([normalize_axis_index(ax, ndim, argname) for ax in axis])\nnumpy.AxisError: axis 3 is out of bounds for array of dimension 2\n\"\"\"",
            "\nThe above exception was the direct cause of the following exception:\n",
            "\u001b[0;31mAxisError\u001b[0m                                 Traceback (most recent call last)",
            "\u001b[0;32m<ipython-input-11-e994081809db>\u001b[0m in \u001b[0;36m<module>\u001b[0;34m()\u001b[0m\n\u001b[1;32m     10\u001b[0m     \u001b[0mepochs\u001b[0m\u001b[0;34m=\u001b[0m\u001b[0;36m20\u001b[0m\u001b[0;34m,\u001b[0m\u001b[0;34m\u001b[0m\u001b[0;34m\u001b[0m\u001b[0m\n\u001b[1;32m     11\u001b[0m     \u001b[0mverbose\u001b[0m\u001b[0;34m=\u001b[0m\u001b[0;36m1\u001b[0m\u001b[0;34m,\u001b[0m\u001b[0;34m\u001b[0m\u001b[0;34m\u001b[0m\u001b[0m\n\u001b[0;32m---> 12\u001b[0;31m     \u001b[0mshuffle\u001b[0m\u001b[0;34m=\u001b[0m\u001b[0;32mTrue\u001b[0m\u001b[0;34m,\u001b[0m\u001b[0;34m\u001b[0m\u001b[0;34m\u001b[0m\u001b[0m\n\u001b[0m\u001b[1;32m     13\u001b[0m )\n",
            "\u001b[0;32m/usr/local/lib/python3.6/dist-packages/keras/legacy/interfaces.py\u001b[0m in \u001b[0;36mwrapper\u001b[0;34m(*args, **kwargs)\u001b[0m\n\u001b[1;32m     89\u001b[0m                 warnings.warn('Update your `' + object_name + '` call to the ' +\n\u001b[1;32m     90\u001b[0m                               'Keras 2 API: ' + signature, stacklevel=2)\n\u001b[0;32m---> 91\u001b[0;31m             \u001b[0;32mreturn\u001b[0m \u001b[0mfunc\u001b[0m\u001b[0;34m(\u001b[0m\u001b[0;34m*\u001b[0m\u001b[0margs\u001b[0m\u001b[0;34m,\u001b[0m \u001b[0;34m**\u001b[0m\u001b[0mkwargs\u001b[0m\u001b[0;34m)\u001b[0m\u001b[0;34m\u001b[0m\u001b[0;34m\u001b[0m\u001b[0m\n\u001b[0m\u001b[1;32m     92\u001b[0m         \u001b[0mwrapper\u001b[0m\u001b[0;34m.\u001b[0m\u001b[0m_original_function\u001b[0m \u001b[0;34m=\u001b[0m \u001b[0mfunc\u001b[0m\u001b[0;34m\u001b[0m\u001b[0;34m\u001b[0m\u001b[0m\n\u001b[1;32m     93\u001b[0m         \u001b[0;32mreturn\u001b[0m \u001b[0mwrapper\u001b[0m\u001b[0;34m\u001b[0m\u001b[0;34m\u001b[0m\u001b[0m\n",
            "\u001b[0;32m/usr/local/lib/python3.6/dist-packages/keras/engine/training.py\u001b[0m in \u001b[0;36mfit_generator\u001b[0;34m(self, generator, steps_per_epoch, epochs, verbose, callbacks, validation_data, validation_steps, validation_freq, class_weight, max_queue_size, workers, use_multiprocessing, shuffle, initial_epoch)\u001b[0m\n\u001b[1;32m   1656\u001b[0m             \u001b[0muse_multiprocessing\u001b[0m\u001b[0;34m=\u001b[0m\u001b[0muse_multiprocessing\u001b[0m\u001b[0;34m,\u001b[0m\u001b[0;34m\u001b[0m\u001b[0;34m\u001b[0m\u001b[0m\n\u001b[1;32m   1657\u001b[0m             \u001b[0mshuffle\u001b[0m\u001b[0;34m=\u001b[0m\u001b[0mshuffle\u001b[0m\u001b[0;34m,\u001b[0m\u001b[0;34m\u001b[0m\u001b[0;34m\u001b[0m\u001b[0m\n\u001b[0;32m-> 1658\u001b[0;31m             initial_epoch=initial_epoch)\n\u001b[0m\u001b[1;32m   1659\u001b[0m \u001b[0;34m\u001b[0m\u001b[0m\n\u001b[1;32m   1660\u001b[0m     \u001b[0;34m@\u001b[0m\u001b[0minterfaces\u001b[0m\u001b[0;34m.\u001b[0m\u001b[0mlegacy_generator_methods_support\u001b[0m\u001b[0;34m\u001b[0m\u001b[0;34m\u001b[0m\u001b[0m\n",
            "\u001b[0;32m/usr/local/lib/python3.6/dist-packages/keras/engine/training_generator.py\u001b[0m in \u001b[0;36mfit_generator\u001b[0;34m(model, generator, steps_per_epoch, epochs, verbose, callbacks, validation_data, validation_steps, validation_freq, class_weight, max_queue_size, workers, use_multiprocessing, shuffle, initial_epoch)\u001b[0m\n\u001b[1;32m    179\u001b[0m             \u001b[0mbatch_index\u001b[0m \u001b[0;34m=\u001b[0m \u001b[0;36m0\u001b[0m\u001b[0;34m\u001b[0m\u001b[0;34m\u001b[0m\u001b[0m\n\u001b[1;32m    180\u001b[0m             \u001b[0;32mwhile\u001b[0m \u001b[0msteps_done\u001b[0m \u001b[0;34m<\u001b[0m \u001b[0msteps_per_epoch\u001b[0m\u001b[0;34m:\u001b[0m\u001b[0;34m\u001b[0m\u001b[0;34m\u001b[0m\u001b[0m\n\u001b[0;32m--> 181\u001b[0;31m                 \u001b[0mgenerator_output\u001b[0m \u001b[0;34m=\u001b[0m \u001b[0mnext\u001b[0m\u001b[0;34m(\u001b[0m\u001b[0moutput_generator\u001b[0m\u001b[0;34m)\u001b[0m\u001b[0;34m\u001b[0m\u001b[0;34m\u001b[0m\u001b[0m\n\u001b[0m\u001b[1;32m    182\u001b[0m \u001b[0;34m\u001b[0m\u001b[0m\n\u001b[1;32m    183\u001b[0m                 \u001b[0;32mif\u001b[0m \u001b[0;32mnot\u001b[0m \u001b[0mhasattr\u001b[0m\u001b[0;34m(\u001b[0m\u001b[0mgenerator_output\u001b[0m\u001b[0;34m,\u001b[0m \u001b[0;34m'__len__'\u001b[0m\u001b[0;34m)\u001b[0m\u001b[0;34m:\u001b[0m\u001b[0;34m\u001b[0m\u001b[0;34m\u001b[0m\u001b[0m\n",
            "\u001b[0;32m/usr/local/lib/python3.6/dist-packages/keras/utils/data_utils.py\u001b[0m in \u001b[0;36mget\u001b[0;34m(self)\u001b[0m\n\u001b[1;32m    731\u001b[0m                     \u001b[0;34m\"`use_multiprocessing=False, workers > 1`.\"\u001b[0m\u001b[0;34m\u001b[0m\u001b[0;34m\u001b[0m\u001b[0m\n\u001b[1;32m    732\u001b[0m                     \"For more information see issue #1638.\")\n\u001b[0;32m--> 733\u001b[0;31m             \u001b[0msix\u001b[0m\u001b[0;34m.\u001b[0m\u001b[0mreraise\u001b[0m\u001b[0;34m(\u001b[0m\u001b[0;34m*\u001b[0m\u001b[0msys\u001b[0m\u001b[0;34m.\u001b[0m\u001b[0mexc_info\u001b[0m\u001b[0;34m(\u001b[0m\u001b[0;34m)\u001b[0m\u001b[0;34m)\u001b[0m\u001b[0;34m\u001b[0m\u001b[0;34m\u001b[0m\u001b[0m\n\u001b[0m",
            "\u001b[0;32m/usr/local/lib/python3.6/dist-packages/six.py\u001b[0m in \u001b[0;36mreraise\u001b[0;34m(tp, value, tb)\u001b[0m\n\u001b[1;32m    691\u001b[0m             \u001b[0;32mif\u001b[0m \u001b[0mvalue\u001b[0m\u001b[0;34m.\u001b[0m\u001b[0m__traceback__\u001b[0m \u001b[0;32mis\u001b[0m \u001b[0;32mnot\u001b[0m \u001b[0mtb\u001b[0m\u001b[0;34m:\u001b[0m\u001b[0;34m\u001b[0m\u001b[0;34m\u001b[0m\u001b[0m\n\u001b[1;32m    692\u001b[0m                 \u001b[0;32mraise\u001b[0m \u001b[0mvalue\u001b[0m\u001b[0;34m.\u001b[0m\u001b[0mwith_traceback\u001b[0m\u001b[0;34m(\u001b[0m\u001b[0mtb\u001b[0m\u001b[0;34m)\u001b[0m\u001b[0;34m\u001b[0m\u001b[0;34m\u001b[0m\u001b[0m\n\u001b[0;32m--> 693\u001b[0;31m             \u001b[0;32mraise\u001b[0m \u001b[0mvalue\u001b[0m\u001b[0;34m\u001b[0m\u001b[0;34m\u001b[0m\u001b[0m\n\u001b[0m\u001b[1;32m    694\u001b[0m         \u001b[0;32mfinally\u001b[0m\u001b[0;34m:\u001b[0m\u001b[0;34m\u001b[0m\u001b[0;34m\u001b[0m\u001b[0m\n\u001b[1;32m    695\u001b[0m             \u001b[0mvalue\u001b[0m \u001b[0;34m=\u001b[0m \u001b[0;32mNone\u001b[0m\u001b[0;34m\u001b[0m\u001b[0;34m\u001b[0m\u001b[0m\n",
            "\u001b[0;32m/usr/local/lib/python3.6/dist-packages/keras/utils/data_utils.py\u001b[0m in \u001b[0;36mget\u001b[0;34m(self)\u001b[0m\n\u001b[1;32m    700\u001b[0m                 \u001b[0;32mtry\u001b[0m\u001b[0;34m:\u001b[0m\u001b[0;34m\u001b[0m\u001b[0;34m\u001b[0m\u001b[0m\n\u001b[1;32m    701\u001b[0m                     \u001b[0mfuture\u001b[0m \u001b[0;34m=\u001b[0m \u001b[0mself\u001b[0m\u001b[0;34m.\u001b[0m\u001b[0mqueue\u001b[0m\u001b[0;34m.\u001b[0m\u001b[0mget\u001b[0m\u001b[0;34m(\u001b[0m\u001b[0mblock\u001b[0m\u001b[0;34m=\u001b[0m\u001b[0;32mTrue\u001b[0m\u001b[0;34m)\u001b[0m\u001b[0;34m\u001b[0m\u001b[0;34m\u001b[0m\u001b[0m\n\u001b[0;32m--> 702\u001b[0;31m                     \u001b[0minputs\u001b[0m \u001b[0;34m=\u001b[0m \u001b[0mfuture\u001b[0m\u001b[0;34m.\u001b[0m\u001b[0mget\u001b[0m\u001b[0;34m(\u001b[0m\u001b[0mtimeout\u001b[0m\u001b[0;34m=\u001b[0m\u001b[0;36m30\u001b[0m\u001b[0;34m)\u001b[0m\u001b[0;34m\u001b[0m\u001b[0;34m\u001b[0m\u001b[0m\n\u001b[0m\u001b[1;32m    703\u001b[0m                     \u001b[0mself\u001b[0m\u001b[0;34m.\u001b[0m\u001b[0mqueue\u001b[0m\u001b[0;34m.\u001b[0m\u001b[0mtask_done\u001b[0m\u001b[0;34m(\u001b[0m\u001b[0;34m)\u001b[0m\u001b[0;34m\u001b[0m\u001b[0;34m\u001b[0m\u001b[0m\n\u001b[1;32m    704\u001b[0m                 \u001b[0;32mexcept\u001b[0m \u001b[0mmp\u001b[0m\u001b[0;34m.\u001b[0m\u001b[0mTimeoutError\u001b[0m\u001b[0;34m:\u001b[0m\u001b[0;34m\u001b[0m\u001b[0;34m\u001b[0m\u001b[0m\n",
            "\u001b[0;32m/usr/lib/python3.6/multiprocessing/pool.py\u001b[0m in \u001b[0;36mget\u001b[0;34m(self, timeout)\u001b[0m\n\u001b[1;32m    642\u001b[0m             \u001b[0;32mreturn\u001b[0m \u001b[0mself\u001b[0m\u001b[0;34m.\u001b[0m\u001b[0m_value\u001b[0m\u001b[0;34m\u001b[0m\u001b[0;34m\u001b[0m\u001b[0m\n\u001b[1;32m    643\u001b[0m         \u001b[0;32melse\u001b[0m\u001b[0;34m:\u001b[0m\u001b[0;34m\u001b[0m\u001b[0;34m\u001b[0m\u001b[0m\n\u001b[0;32m--> 644\u001b[0;31m             \u001b[0;32mraise\u001b[0m \u001b[0mself\u001b[0m\u001b[0;34m.\u001b[0m\u001b[0m_value\u001b[0m\u001b[0;34m\u001b[0m\u001b[0;34m\u001b[0m\u001b[0m\n\u001b[0m\u001b[1;32m    645\u001b[0m \u001b[0;34m\u001b[0m\u001b[0m\n\u001b[1;32m    646\u001b[0m     \u001b[0;32mdef\u001b[0m \u001b[0m_set\u001b[0m\u001b[0;34m(\u001b[0m\u001b[0mself\u001b[0m\u001b[0;34m,\u001b[0m \u001b[0mi\u001b[0m\u001b[0;34m,\u001b[0m \u001b[0mobj\u001b[0m\u001b[0;34m)\u001b[0m\u001b[0;34m:\u001b[0m\u001b[0;34m\u001b[0m\u001b[0;34m\u001b[0m\u001b[0m\n",
            "\u001b[0;31mAxisError\u001b[0m: axis 3 is out of bounds for array of dimension 2"
          ]
        }
      ]
    },
    {
      "cell_type": "markdown",
      "metadata": {
        "id": "giel3I91jeEq",
        "colab_type": "text"
      },
      "source": [
        "# Evaluate the 1D model based on area under the ROC curve\n",
        "\n",
        "**Using Validation and Test Set**\n",
        "\n",
        "Baseline: 0.7683 <br/>\n",
        "~~Kernal l2 regularize all layers: 0.559029~~ <br/>\n",
        "~~Kernal l2 relarized every other: 0.723753~~ <br/>\n",
        "~~Dropout every .25: 0.771~~ <br/>\n",
        "Dropout every other .25: 0.787196 <br/>\n",
        "~~Sigmoid activation: 0.4785~~ <br/>\n",
        "Adding Activation Layer: 0.79660 <br/>\n",
        "Removing 4 layers of convolution: 0.796247 <br/>\n",
        "~~Making filters 64: 0.784150~~ <br/>\n",
        "~~Making filters 128: 0.782428~~ <br/>\n",
        "Added a convolutional layer: 0.804106 <br/>\n",
        "~~Pool size 3 added a layer: 0.800177~~ <br/>\n",
        "~~Pool size 3 added a layer: 0.804724~~ <br/>\n",
        "~~Sigmoid activation on output: 0.780927~~ <br/>\n",
        "~~3 conv layers, 6 strides, filter 64, elu: 0.752~~ <br/>\n",
        "~~3 conv layers, 6 strides, filter 64, relu: 0.765386~~ <br/>\n",
        "~~3 conv layers, 6 strides, filter 32 64 128, relu: 0.720706~~ <br/>\n",
        "~~3 conv layers, 6 strides, filter 128, relu: 0.772627~~ <br/>\n",
        "~~Batch normalization: 0.753731~~ <br/>\n",
        "**HIGHEST SCORE: 0.0804724 (using full training set including validation)**\n",
        "\n",
        "\n"
      ]
    },
    {
      "cell_type": "markdown",
      "metadata": {
        "id": "oXSA-aoaCbBf",
        "colab_type": "text"
      },
      "source": [
        "## Validation"
      ]
    },
    {
      "cell_type": "code",
      "metadata": {
        "id": "4zpttflABRfq",
        "colab_type": "code",
        "outputId": "4f49b9ac-921a-4dfb-bce9-bf7d4a060ea5",
        "colab": {
          "base_uri": "https://localhost:8080/",
          "height": 34
        }
      },
      "source": [
        "X_val_1D.shape"
      ],
      "execution_count": 0,
      "outputs": [
        {
          "output_type": "execute_result",
          "data": {
            "text/plain": [
              "(471, 10000, 1)"
            ]
          },
          "metadata": {
            "tags": []
          },
          "execution_count": 103
        }
      ]
    },
    {
      "cell_type": "code",
      "metadata": {
        "id": "CKKCHgMtifE4",
        "colab_type": "code",
        "colab": {}
      },
      "source": [
        "y_pred = model.predict(X_val_1D)"
      ],
      "execution_count": 0,
      "outputs": []
    },
    {
      "cell_type": "code",
      "metadata": {
        "id": "xSsKP7S8qZRU",
        "colab_type": "code",
        "outputId": "3d081dd5-db1f-4de7-88f0-696763dec7dc",
        "colab": {
          "base_uri": "https://localhost:8080/",
          "height": 404
        }
      },
      "source": [
        "false_positive_rate, true_positive_rate, thresholds = roc_curve(y_val_1D[:, 0], y_pred[:, 0])\n",
        "auc = roc_auc_score(y_val_1D[:, 0], y_pred[:, 0])\n",
        "\n",
        "plt.figure(figsize=(6, 6))\n",
        "plt.plot(false_positive_rate, true_positive_rate)\n",
        "plt.xlabel('false positive rate')\n",
        "plt.ylabel('true positive rate')\n",
        "plt.title('Area Under Curve: %f' % auc)\n",
        "plt.show()"
      ],
      "execution_count": 0,
      "outputs": [
        {
          "output_type": "display_data",
          "data": {
            "image/png": "[encoded data removed]",
            "text/plain": [
              "<Figure size 432x432 with 1 Axes>"
            ]
          },
          "metadata": {
            "tags": []
          }
        }
      ]
    },
    {
      "cell_type": "markdown",
      "metadata": {
        "id": "6rnCiv_5Cfqp",
        "colab_type": "text"
      },
      "source": [
        "## Test"
      ]
    },
    {
      "cell_type": "code",
      "metadata": {
        "id": "l2xykFvQCVRx",
        "colab_type": "code",
        "colab": {}
      },
      "source": [
        "y_pred = model.predict(X_test_1D)"
      ],
      "execution_count": 0,
      "outputs": []
    },
    {
      "cell_type": "code",
      "metadata": {
        "id": "hoxu4LwICm9r",
        "colab_type": "code",
        "outputId": "4c3802f1-6b50-4c57-9244-188543dacede",
        "colab": {
          "base_uri": "https://localhost:8080/",
          "height": 404
        }
      },
      "source": [
        "false_positive_rate, true_positive_rate, thresholds = roc_curve(y_test_1D[:, 0], y_pred[:, 0])\n",
        "auc = roc_auc_score(y_test_1D[:, 0], y_pred[:, 0])\n",
        "\n",
        "plt.figure(figsize=(6, 6))\n",
        "plt.plot(false_positive_rate, true_positive_rate)\n",
        "plt.xlabel('false positive rate')\n",
        "plt.ylabel('true positive rate')\n",
        "plt.title('Area Under Curve: %f' % auc)\n",
        "plt.show()"
      ],
      "execution_count": 0,
      "outputs": [
        {
          "output_type": "display_data",
          "data": {
            "image/png": "[encoded data removed]",
            "text/plain": [
              "<Figure size 432x432 with 1 Axes>"
            ]
          },
          "metadata": {
            "tags": []
          }
        }
      ]
    },
    {
      "cell_type": "markdown",
      "metadata": {
        "id": "vwE68mhEArqZ",
        "colab_type": "text"
      },
      "source": [
        "# Evaluate the 2D Model based on area under the ROC Curve (Small Scale)\n",
        "\n",
        "Ok so right now the 2D network is performing worse than 1D. I think this is due to the fact that I'm only training on 1 window per sound clip. So the 1D network would actually have more data at this point. The preprocessing step takes a very long time and explodes quickly, so that's currently my bottleneck with this approach. "
      ]
    },
    {
      "cell_type": "code",
      "metadata": {
        "id": "TLsBF9R3AwID",
        "colab_type": "code",
        "colab": {}
      },
      "source": [
        "X_val_2D = np.array(X_val_2D)\n",
        "X_val_2D = np.expand_dims(X_val_2D, axis=3)\n",
        "X_test_2D = np.array(X_test_2D)\n",
        "X_test_2D = np.expand_dims(X_test_2D, axis=3)"
      ],
      "execution_count": 0,
      "outputs": []
    },
    {
      "cell_type": "markdown",
      "metadata": {
        "id": "OvDMMryNEySk",
        "colab_type": "text"
      },
      "source": [
        "## Validation"
      ]
    },
    {
      "cell_type": "code",
      "metadata": {
        "id": "Gp_o6ka5Ewkf",
        "colab_type": "code",
        "colab": {}
      },
      "source": [
        "y_pred = model.predict(X_val_2D)"
      ],
      "execution_count": 0,
      "outputs": []
    },
    {
      "cell_type": "code",
      "metadata": {
        "id": "RAeoibN5Exqm",
        "colab_type": "code",
        "outputId": "02d07624-7015-4228-c81b-525433382765",
        "colab": {
          "base_uri": "https://localhost:8080/",
          "height": 404
        }
      },
      "source": [
        "false_positive_rate, true_positive_rate, thresholds = roc_curve(y_val_2D[:, 0], y_pred[:, 0])\n",
        "auc = roc_auc_score(y_val_2D[:, 0], y_pred[:, 0])\n",
        "\n",
        "plt.figure(figsize=(6, 6))\n",
        "plt.plot(false_positive_rate, true_positive_rate)\n",
        "plt.xlabel('false positive rate')\n",
        "plt.ylabel('true positive rate')\n",
        "plt.title('Area Under Curve: %f' % auc)\n",
        "plt.show()"
      ],
      "execution_count": 0,
      "outputs": [
        {
          "output_type": "display_data",
          "data": {
            "image/png": "[encoded data removed]",
            "text/plain": [
              "<Figure size 432x432 with 1 Axes>"
            ]
          },
          "metadata": {
            "tags": []
          }
        }
      ]
    },
    {
      "cell_type": "markdown",
      "metadata": {
        "id": "7LV7tGTJEjBj",
        "colab_type": "text"
      },
      "source": [
        "## Test"
      ]
    },
    {
      "cell_type": "code",
      "metadata": {
        "id": "yJ7RS4NhEk-p",
        "colab_type": "code",
        "colab": {}
      },
      "source": [
        "y_pred = model.predict(X_test_2D)"
      ],
      "execution_count": 0,
      "outputs": []
    },
    {
      "cell_type": "code",
      "metadata": {
        "id": "O0aABHguEour",
        "colab_type": "code",
        "outputId": "5b9a8578-90e9-48c0-da98-6e993669c415",
        "colab": {
          "base_uri": "https://localhost:8080/",
          "height": 404
        }
      },
      "source": [
        "false_positive_rate, true_positive_rate, thresholds = roc_curve(y_test_2D[:, 0], y_pred[:, 0])\n",
        "auc = roc_auc_score(y_test_2D[:, 0], y_pred[:, 0])\n",
        "\n",
        "plt.figure(figsize=(6, 6))\n",
        "plt.plot(false_positive_rate, true_positive_rate)\n",
        "plt.xlabel('false positive rate')\n",
        "plt.ylabel('true positive rate')\n",
        "plt.title('Area Under Curve: %f' % auc)\n",
        "plt.show()"
      ],
      "execution_count": 0,
      "outputs": [
        {
          "output_type": "display_data",
          "data": {
            "image/png": "[encoded data removed]",
            "text/plain": [
              "<Figure size 432x432 with 1 Axes>"
            ]
          },
          "metadata": {
            "tags": []
          }
        }
      ]
    },
    {
      "cell_type": "markdown",
      "metadata": {
        "colab_type": "text",
        "id": "TKp8jlEt85O0"
      },
      "source": [
        "# Evaluate the 2D Model based on area under the ROC Curve (Bulk)\n",
        "\n",
        "I haven't been able to get this model to train properly yet, but I think performance improvements are eminent on this one!"
      ]
    },
    {
      "cell_type": "markdown",
      "metadata": {
        "id": "aYJQp3_f9Ht2",
        "colab_type": "text"
      },
      "source": [
        "## Test"
      ]
    },
    {
      "cell_type": "code",
      "metadata": {
        "id": "PeX-OKWg9GLB",
        "colab_type": "code",
        "colab": {}
      },
      "source": [
        "y_pred = model.predict(X_test_2D)"
      ],
      "execution_count": 0,
      "outputs": []
    },
    {
      "cell_type": "code",
      "metadata": {
        "id": "sGoCqoIO9KZl",
        "colab_type": "code",
        "colab": {}
      },
      "source": [
        "plt.figure(figsize=(6, 6))\n",
        "plt.plot(false_positive_rate, true_positive_rate)\n",
        "plt.xlabel('false positive rate')\n",
        "plt.ylabel('true positive rate')\n",
        "plt.title('Area Under Curve: %f' % auc)\n",
        "plt.show()"
      ],
      "execution_count": 0,
      "outputs": []
    },
    {
      "cell_type": "markdown",
      "metadata": {
        "id": "ObX1KhEB9td9",
        "colab_type": "text"
      },
      "source": [
        "# Research\n",
        "This project borrows heavily from papers written in the 2016 PhysioNet Challenge. \n",
        "\n",
        "I read the following papers:\n",
        "- Zabihi et al: https://physionet.org/content/challenge-2016/1.0.0/papers/zabihi.pdf\n",
        "- Potes et al: https://physionet.org/content/challenge-2016/1.0.0/papers/potes.pdf\n",
        "- Nilanon et al: https://physionet.org/content/challenge-2016/1.0.0/papers/nilanon.pdf\n",
        "- Rubin et al: https://physionet.org/content/challenge-2016/1.0.0/papers/rubin.pdf\n",
        "\n",
        "Also the following blogs:\n",
        "- Shaikh for sound segmentation: https://www.analyticsvidhya.com/blog/2017/11/heart-sound-segmentation-deep-learning/\n",
        "- Jain on regularization for deep learning: https://www.analyticsvidhya.com/blog/2018/04/fundamentals-deep-learning-regularization-techniques/\n",
        "- Roy for audio file processing https://www.kdnuggets.com/2020/02/audio-file-processing-ecg-audio-python.html\n",
        "- Srinivasan for more audio processing https://www.kdnuggets.com/2020/02/audio-file-processing-ecg-audio-python.html\n",
        "- Gartzman on Mel Spectrograms https://towardsdatascience.com/getting-to-know-the-mel-spectrogram-31bca3e2d9d0\n",
        "- AI graduate on CNN and mel https://medium.com/x8-the-ai-community/audio-classification-using-cnn-coding-example-f9cbd272269e\n",
        "\n",
        "Also this site for cryptography:\n",
        "http://www.practicalcryptography.com/miscellaneous/machine-learning/guide-mel-frequency-cepstral-coefficients-mfccs/\n",
        "\n",
        "And advice from a few friends:\n",
        "- Naryan Murthy (signal processing)\n",
        "- Richard Chiou (CNN)\n",
        "\n",
        "Rubin et al wrote a more detailed paper (http://ceur-ws.org/Vol-1891/paper2.pdf) which was the source of much ideation involving segmentation and transformation\n",
        "\n",
        "Something to read for more detail in the future:\n",
        "https://timsainburg.com/python-mel-compression-inversion.html"
      ]
    },
    {
      "cell_type": "markdown",
      "metadata": {
        "id": "vY6nO2c6u1LI",
        "colab_type": "text"
      },
      "source": [
        "# Discussion\n",
        "**Please discuss the algorithm performance and explain the changes you made which led to performance gains.**"
      ]
    },
    {
      "cell_type": "markdown",
      "metadata": {
        "id": "v_wyII-Wu8ap",
        "colab_type": "text"
      },
      "source": [
        "**Using the 1D CNN** <br/>\n",
        "\n",
        "I will say that not all iterations are captured in the experimentaion section due to space consideration. I tried to keep a few iterations of large pattern changes. \n",
        "\n",
        "Things I Tried: \n",
        "- Regularization\n",
        "- Adding convolutional layers\n",
        "- Adding activation layers\n",
        "- Changing activation type from relu to elu and sigmoid\n",
        "- Changing the filter size\n",
        "- Increasing dropout size and/or dropout layers\n",
        "- Changing the pool sizing\n",
        "- Changing the number of max pool layers\n",
        "- Batch Normalization\n",
        "- Introduced strides\n",
        "- Increasing number of epochs\n",
        "\n",
        "Summary of Positive Changes: <br/>\n",
        "- Changed activation type in convolutional layer to 'elu' and added extra activation layers\n",
        "- Removed extra convolutional layers\n",
        "- Added dropout layers of 0.25 throughout\n",
        "- Batch normalization\n",
        "\n",
        "**Using 2D CNN**\n",
        "\n",
        "I didn't have time to investigate many networks for this approach, because preprocessing and pipelining was a bit of a challenge, but I'd investigate this in the future.\n",
        "\n",
        "Summary of Model: <br/>\n",
        "Using learnings from the 1D model building I just went with a basic architecture. The first iteration seemed to perform ok, but not better than the 1D due to data limitations. "
      ]
    },
    {
      "cell_type": "markdown",
      "metadata": {
        "id": "vx-dAsAzdTV2",
        "colab_type": "text"
      },
      "source": [
        "**Please discuss other things you would try if you had additional time that might further improve performance.**"
      ]
    },
    {
      "cell_type": "markdown",
      "metadata": {
        "id": "LrWXiBkLdegs",
        "colab_type": "text"
      },
      "source": [
        "1) I would try segmentation of heartsounds clips using S1 and S2 classification\n",
        "\n",
        "2) There are some tuning things I would do to the 2D model \n",
        "\n",
        "3) I'd love to use transfer learning to apply an image classifier on the melspecs. "
      ]
    }
  ]
}